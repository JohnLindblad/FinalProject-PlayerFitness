{
 "cells": [
  {
   "cell_type": "markdown",
   "metadata": {},
   "source": [
    "# 1. Imports"
   ]
  },
  {
   "cell_type": "code",
   "execution_count": null,
   "metadata": {},
   "outputs": [],
   "source": [
    "import pandas as pd\n",
    "import json\n",
    "import os\n",
    "import copy\n",
    "import time\n",
    "import numpy as np\n",
    "\n",
    "import seaborn as sns\n",
    "import matplotlib.pyplot as plt"
   ]
  },
  {
   "cell_type": "markdown",
   "metadata": {},
   "source": [
    "# 2. Loading data"
   ]
  },
  {
   "cell_type": "markdown",
   "metadata": {},
   "source": [
    "## 2.1 Identify id:s for Liverpool games"
   ]
  },
  {
   "cell_type": "code",
   "execution_count": null,
   "metadata": {},
   "outputs": [],
   "source": [
    "# path = 'C:\\\\Users\\\\johnl\\\\Documents\\\\GitHub\\\\opendata\\\\data\\\\matches.json'\n",
    "\n",
    "# with open(path) as f:\n",
    "#     data = json.load(f)\n",
    "\n",
    "# # print(json.dumps(data, indent=4, sort_keys=True))\n",
    "\n",
    "# # Manually found that the Liverpool games has id's 4039 and 2440"
   ]
  },
  {
   "cell_type": "code",
   "execution_count": null,
   "metadata": {},
   "outputs": [],
   "source": [
    "path = 'C:\\\\Users\\\\johnl\\\\Documents\\\\GitHub\\\\opendata\\\\data\\\\matches'\n",
    "\n",
    "id1 = '\\\\4039'\n",
    "id2 = '\\\\2440'"
   ]
  },
  {
   "cell_type": "markdown",
   "metadata": {},
   "source": [
    "## 2.2 Create player dict"
   ]
  },
  {
   "cell_type": "code",
   "execution_count": null,
   "metadata": {},
   "outputs": [],
   "source": [
    "with open(path + id1 + '\\\\match_data.json') as f:\n",
    "    data = json.load(f)\n",
    "\n",
    "name_dict = {}\n",
    "for player in data['players']:\n",
    "    obj_id = player['trackable_object']\n",
    "    first_name = player['first_name']\n",
    "    last_name = player['last_name']\n",
    "    name_dict[obj_id] = first_name + ' ' + last_name\n",
    "\n",
    "lfc_dict = {}\n",
    "lfc_list = []\n",
    "if data['id'] == 4039:\n",
    "    lfc_id = data['away_team']['id']\n",
    "    for player in data['players']:\n",
    "        if player['team_id'] == lfc_id:\n",
    "            obj_id = player['trackable_object']\n",
    "            first_name = player['first_name']\n",
    "            last_name = player['last_name']\n",
    "            lfc_dict[obj_id] = first_name + ' ' + last_name\n",
    "            lfc_list.append(obj_id)\n",
    "\n",
    "# name_dict\n",
    "lfc_dict\n",
    "# lfc_list"
   ]
  },
  {
   "cell_type": "markdown",
   "metadata": {},
   "source": [
    "## 2.3 Load and explore tracking data "
   ]
  },
  {
   "cell_type": "code",
   "execution_count": null,
   "metadata": {},
   "outputs": [],
   "source": [
    "with open(path + id1 + '\\\\structured_data.json') as f:\n",
    "    data = json.load(f)"
   ]
  },
  {
   "cell_type": "code",
   "execution_count": null,
   "metadata": {},
   "outputs": [],
   "source": [
    "# for frame in data:\n",
    "#     print(frame['time'])\n",
    "'''\n",
    "Manually checked the time intervals. dt = 0.1 seconds\n",
    "'''\n",
    "dt = 0.1"
   ]
  },
  {
   "cell_type": "code",
   "execution_count": null,
   "metadata": {},
   "outputs": [],
   "source": [
    "players = [i for i in name_dict.keys()]\n",
    "# cols = ['frame'] + players"
   ]
  },
  {
   "cell_type": "code",
   "execution_count": null,
   "metadata": {},
   "outputs": [],
   "source": [
    "#data[1000]['data'][0]"
   ]
  },
  {
   "cell_type": "code",
   "execution_count": null,
   "metadata": {},
   "outputs": [],
   "source": [
    "df = pd.DataFrame(columns=players)\n",
    "print(f'Number of frames: {len(data)}')\n",
    "print(f'Number of columns: {len(players)}')"
   ]
  },
  {
   "cell_type": "code",
   "execution_count": null,
   "metadata": {},
   "outputs": [],
   "source": [
    "new_frame = {}\n",
    "for i in players:\n",
    "    new_frame[i] = None\n",
    "\n",
    "t0 = time.time()\n",
    "\n",
    "li =  []\n",
    "for frame in data:\n",
    "    frame_nr = frame['frame']\n",
    "    curr_frame = copy.deepcopy(new_frame)\n",
    "    for obj in frame['data']:\n",
    "        x = obj['x']\n",
    "        y = obj['y']\n",
    "        try:\n",
    "            obj_id = obj['trackable_object']\n",
    "            curr_frame[obj_id] = (x, y)\n",
    "        except:\n",
    "            None\n",
    "    row = pd.Series(curr_frame, name = frame_nr)\n",
    "    li.append(curr_frame)\n",
    "\n",
    "df = pd.DataFrame(li)\n",
    "#     if frame_nr % 1000 == 0 :\n",
    "#         t = time.time() - t0\n",
    "#         print(f'{frame_nr} frames took {t} seconds to process')\n",
    "print(time.time()-t0)\n",
    "\n",
    "# df.to_pickle(id1 +'_df')\n",
    "# df = pd.read_pickle(file_name)"
   ]
  },
  {
   "cell_type": "code",
   "execution_count": null,
   "metadata": {},
   "outputs": [],
   "source": [
    "# col_list = []\n",
    "# p_list = []\n",
    "# for col in df.columns:\n",
    "#     player_df = df[col]\n",
    "#     p = len([i for i in player_df if i!= None])/len(player_df)\n",
    "#     # print(col, p)\n",
    "#     col_list.append(str(col))\n",
    "#     p_list.append(p)\n",
    "\n",
    "# plt.bar(x=col_list, height=p_list)"
   ]
  },
  {
   "cell_type": "code",
   "execution_count": null,
   "metadata": {},
   "outputs": [],
   "source": [
    "lfc_df = df[lfc_list]\n",
    "\n",
    "for col in lfc_df.columns:\n",
    "    player_df = lfc_df[col]\n",
    "    p = len([i for i in player_df if i!= None])/len(player_df)\n",
    "    if p == 0.0:\n",
    "        lfc_df = lfc_df.drop(columns=col)\n",
    "        \n",
    "lfc_list = [i for i in lfc_df.columns]\n",
    "\n",
    "# lfc_df"
   ]
  },
  {
   "cell_type": "code",
   "execution_count": null,
   "metadata": {},
   "outputs": [],
   "source": [
    "col_list = []\n",
    "p_list = []\n",
    "for col in lfc_df.columns:\n",
    "    player_df = lfc_df[col]\n",
    "    p = len([i for i in player_df if i!= None])/len(player_df)\n",
    "    # print(col, p)\n",
    "    col_list.append(str(col))\n",
    "    p_list.append(p)\n",
    "\n",
    "plt.bar(x=col_list, height=p_list)"
   ]
  },
  {
   "cell_type": "markdown",
   "metadata": {},
   "source": [
    "Obviously, for all players, more than half of the game is not covered by the broadcast data. This is a clear limitation. However, the most important parts of the games (i.e. those when they are close to the ball) is likely to be the ones visible in the broadcast and this may thus not be a huge problem. It is not likely that players far from the ball will run as quick as the ones close to the ball."
   ]
  },
  {
   "cell_type": "markdown",
   "metadata": {},
   "source": [
    "**To investigate:**\n",
    "* Ways to interpolate player positions"
   ]
  },
  {
   "cell_type": "markdown",
   "metadata": {},
   "source": [
    "# 3. Computing velocities and accelerations"
   ]
  },
  {
   "cell_type": "markdown",
   "metadata": {},
   "source": [
    "## 3.1 Compute velocities "
   ]
  },
  {
   "cell_type": "code",
   "execution_count": null,
   "metadata": {},
   "outputs": [],
   "source": [
    "# lfc_df_numeric = lfc_df.fillna(value=np.nan)\n",
    "\n",
    "lfc_cords = pd.DataFrame()\n",
    "\n",
    "for col in lfc_df.columns:\n",
    "    x_list = []\n",
    "    y_list = []\n",
    "    for i in lfc_df[col]:\n",
    "        if i == None:\n",
    "            x_list.append(np.nan)\n",
    "            y_list.append(np.nan)\n",
    "        else:\n",
    "            x_list.append(i[0])\n",
    "            y_list.append(i[1])\n",
    "    x_col = str(col)+'_x'\n",
    "    y_col = str(col)+'_y'\n",
    "    lfc_cords[x_col] = x_list\n",
    "    lfc_cords[y_col] = y_list\n",
    "\n",
    "lfc_cords"
   ]
  },
  {
   "cell_type": "code",
   "execution_count": null,
   "metadata": {},
   "outputs": [],
   "source": [
    "lfc_cords_diff = lfc_cords.diff(periods=1, axis=0)\n",
    "lfc_cords_diff"
   ]
  },
  {
   "cell_type": "code",
   "execution_count": null,
   "metadata": {},
   "outputs": [],
   "source": [
    "vel_lfc_df = pd.DataFrame()\n",
    "\n",
    "for i in lfc_list:\n",
    "    dx_col = str(i)+'_x'\n",
    "    dy_col = str(i)+'_y'\n",
    "    dx = lfc_cords_diff[dx_col]\n",
    "    dy = lfc_cords_diff[dy_col]\n",
    "    v = np.sqrt(dx**2 + dy**2)/dt\n",
    "    \n",
    "    for j in range(len(v)):\n",
    "        if v[j] > 12.5: # Usain Bolt's top speed\n",
    "            v[j] = np.nan\n",
    "    \n",
    "    vel_lfc_df[i] = v\n",
    "\n",
    "vel_lfc_df"
   ]
  },
  {
   "cell_type": "code",
   "execution_count": null,
   "metadata": {},
   "outputs": [],
   "source": [
    "# new check after dropping outlier velocities\n",
    "\n",
    "p_list2 = [i for i in vel_lfc_df.count()/len(vel_lfc_df)]\n",
    "col_list2 = [str(i) for i in vel_lfc_df.columns]\n",
    "\n",
    "plt.bar(x=col_list2, height=p_list2)"
   ]
  },
  {
   "cell_type": "code",
   "execution_count": null,
   "metadata": {},
   "outputs": [],
   "source": [
    "# printing how much data is dropped due to the removing of outlier velocities\n",
    "assert len(p_list) == len(p_list2)\n",
    "\n",
    "for i in range(len(p_list)):\n",
    "    print(p_list[i]-p_list2[i])"
   ]
  },
  {
   "cell_type": "markdown",
   "metadata": {},
   "source": [
    "## 3.2 Smoothing of velocities "
   ]
  },
  {
   "cell_type": "code",
   "execution_count": null,
   "metadata": {},
   "outputs": [],
   "source": [
    "# TBD"
   ]
  },
  {
   "cell_type": "markdown",
   "metadata": {},
   "source": [
    "## 3.3 Compute accelerations and decelerations "
   ]
  },
  {
   "cell_type": "code",
   "execution_count": null,
   "metadata": {},
   "outputs": [],
   "source": [
    "# TBD"
   ]
  },
  {
   "cell_type": "markdown",
   "metadata": {},
   "source": [
    "# 4. Decompose into speed and acceleration/deceleration zones"
   ]
  },
  {
   "cell_type": "code",
   "execution_count": null,
   "metadata": {},
   "outputs": [],
   "source": [
    "# TBD"
   ]
  },
  {
   "cell_type": "markdown",
   "metadata": {},
   "source": [
    "# 5. Acceleration/Deceleration profiles"
   ]
  },
  {
   "cell_type": "code",
   "execution_count": null,
   "metadata": {},
   "outputs": [],
   "source": [
    "# TBD"
   ]
  },
  {
   "cell_type": "markdown",
   "metadata": {},
   "source": [
    "# 6. Sequences of peak intensity"
   ]
  },
  {
   "cell_type": "code",
   "execution_count": null,
   "metadata": {},
   "outputs": [],
   "source": [
    "# TBD"
   ]
  },
  {
   "cell_type": "markdown",
   "metadata": {},
   "source": [
    "# 7. Metabolic power"
   ]
  },
  {
   "cell_type": "code",
   "execution_count": null,
   "metadata": {},
   "outputs": [],
   "source": [
    "# TBD"
   ]
  }
 ],
 "metadata": {
  "kernelspec": {
   "display_name": "Python 3",
   "language": "python",
   "name": "python3"
  },
  "language_info": {
   "codemirror_mode": {
    "name": "ipython",
    "version": 3
   },
   "file_extension": ".py",
   "mimetype": "text/x-python",
   "name": "python",
   "nbconvert_exporter": "python",
   "pygments_lexer": "ipython3",
   "version": "3.7.6"
  }
 },
 "nbformat": 4,
 "nbformat_minor": 4
}
