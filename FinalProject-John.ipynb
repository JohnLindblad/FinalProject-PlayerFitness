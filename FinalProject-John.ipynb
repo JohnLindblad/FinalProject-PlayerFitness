{
 "cells": [
  {
   "cell_type": "markdown",
   "metadata": {},
   "source": [
    "# 1. Imports"
   ]
  },
  {
   "cell_type": "code",
   "execution_count": 1,
   "metadata": {},
   "outputs": [],
   "source": [
    "import pandas as pd\n",
    "import json\n",
    "import os\n",
    "import copy\n",
    "import time\n",
    "import numpy as np\n",
    "\n",
    "import seaborn as sns\n",
    "import matplotlib.pyplot as plt"
   ]
  },
  {
   "cell_type": "markdown",
   "metadata": {},
   "source": [
    "# 2. Loading data"
   ]
  },
  {
   "cell_type": "markdown",
   "metadata": {},
   "source": [
    "## 2.1 Identify id:s for Liverpool games"
   ]
  },
  {
   "cell_type": "code",
   "execution_count": 37,
   "metadata": {},
   "outputs": [],
   "source": [
    "# path = 'C:\\\\Users\\\\johnl\\\\Documents\\\\GitHub\\\\opendata\\\\data\\\\matches.json'\n",
    "\n",
    "# with open(path) as f:\n",
    "#     data = json.load(f)\n",
    "\n",
    "# # print(json.dumps(data, indent=4, sort_keys=True))\n",
    "\n",
    "# # Manually found that the Liverpool games has id's 4039 and 2440\n",
    "\n",
    "path = 'C:\\\\Users\\\\jakes\\\\Desktop\\\\Data Science\\\\Mathematical Modelling in Football\\\\Group Project\\\\Data\\\\SkillCorner\\\\opendata-master\\\\data\\\\matches'\n",
    "\n",
    "id1 = '\\\\4039'\n",
    "id2 = '\\\\2440'"
   ]
  },
  {
   "cell_type": "markdown",
   "metadata": {},
   "source": [
    "## 2.2 Create player dict"
   ]
  },
  {
   "cell_type": "code",
   "execution_count": 41,
   "metadata": {},
   "outputs": [],
   "source": [
    "def create_player_dicts(path, match_id):\n",
    "\n",
    "    with open(path + '\\\\' + match_id + '\\\\match_data.json') as f:\n",
    "        data = json.load(f)\n",
    "\n",
    "    name_dict = {}\n",
    "    for player in data['players']:\n",
    "        obj_id = player['trackable_object']\n",
    "        first_name = player['first_name']\n",
    "        last_name = player['last_name']\n",
    "        name_dict[obj_id] = first_name + ' ' + last_name\n",
    "\n",
    "    lfc_dict = {}\n",
    "    lfc_list = []\n",
    "    if data['id'] == 4039:\n",
    "        lfc_id = data['away_team']['id']\n",
    "        for player in data['players']:\n",
    "            if player['team_id'] == lfc_id:\n",
    "                obj_id = player['trackable_object']\n",
    "                first_name = player['first_name']\n",
    "                last_name = player['last_name']\n",
    "                lfc_dict[obj_id] = first_name + ' ' + last_name\n",
    "                lfc_list.append(obj_id)\n",
    "\n",
    "    return name_dict, lfc_dict, lfc_list"
   ]
  },
  {
   "cell_type": "code",
   "execution_count": 42,
   "metadata": {},
   "outputs": [],
   "source": [
    "name_dict, lfc_dict, lfc_list = create_player_dicts(path, match_id=id1)"
   ]
  },
  {
   "cell_type": "code",
   "execution_count": 40,
   "metadata": {},
   "outputs": [
    {
     "data": {
      "text/plain": [
       "{11879: 'LW',\n",
       " 25648: 'RWB',\n",
       " 515: 'SUB',\n",
       " 2792: 'CF',\n",
       " 11589: 'LM',\n",
       " 14219: 'SUB',\n",
       " 4683: 'SUB',\n",
       " 11855: 'SUB',\n",
       " 274: 'SUB',\n",
       " 9143: 'CF',\n",
       " 9449: 'LW',\n",
       " 7745: 'RW',\n",
       " 5318: 'RM',\n",
       " 3267: 'CM',\n",
       " 3847: 'LM',\n",
       " 851: 'LWB',\n",
       " 10748: 'LCB',\n",
       " 11537: 'RCB',\n",
       " 11847: 'RWB',\n",
       " 11565: 'GK'}"
      ]
     },
     "execution_count": 40,
     "metadata": {},
     "output_type": "execute_result"
    }
   ],
   "source": [
    "# Merge this dictionary with the above\n",
    "with open(path + '\\\\' + id1 + '\\\\match_data.json') as f:\n",
    "        data = json.load(f)\n",
    "\n",
    "lfc_pos_dict = {}\n",
    "lfc_pos_list = []\n",
    "if data['id'] == 4039:\n",
    "    lfc_id = data['away_team']['id']\n",
    "    for player in data['players']:\n",
    "        if player['team_id'] == lfc_id:\n",
    "            obj_id = player['trackable_object']\n",
    "            pos = player['player_role']['acronym']\n",
    "            lfc_pos_dict[obj_id] = pos\n",
    "            lfc_pos_list.append(obj_id)\n",
    "\n",
    "lfc_pos_dict"
   ]
  },
  {
   "cell_type": "markdown",
   "metadata": {},
   "source": [
    "## 2.3 Load and explore tracking data "
   ]
  },
  {
   "cell_type": "code",
   "execution_count": 5,
   "metadata": {},
   "outputs": [],
   "source": [
    "def load_tracking_data(path, match_id, name_dict):\n",
    "    \n",
    "    with open(path + match_id + '\\\\structured_data.json') as f:\n",
    "        data = json.load(f)\n",
    "    \n",
    "    df = pd.DataFrame( columns = [i for i in name_dict.keys()] )\n",
    "    \n",
    "    new_frame = {}\n",
    "    for i in df.columns:\n",
    "        new_frame[i] = None\n",
    "\n",
    "    li =  []\n",
    "    for frame in data:\n",
    "        frame_nr = frame['frame']\n",
    "        curr_frame = copy.deepcopy(new_frame)\n",
    "        for obj in frame['data']:\n",
    "            x = obj['x']\n",
    "            y = obj['y']\n",
    "            try:\n",
    "                obj_id = obj['trackable_object']\n",
    "                curr_frame[obj_id] = (x, y)\n",
    "            except:\n",
    "                None\n",
    "        row = pd.Series(curr_frame, name = frame_nr)\n",
    "        li.append(curr_frame)\n",
    "\n",
    "    df = pd.DataFrame(li)\n",
    "    \n",
    "    return df"
   ]
  },
  {
   "cell_type": "code",
   "execution_count": 6,
   "metadata": {},
   "outputs": [],
   "source": [
    "df = load_tracking_data(path, id1, name_dict)"
   ]
  },
  {
   "cell_type": "code",
   "execution_count": 7,
   "metadata": {},
   "outputs": [],
   "source": [
    "def create_lfc_dict(df, lfc_list):\n",
    "    lfc_df = df[lfc_list]\n",
    "\n",
    "    for col in lfc_df.columns:\n",
    "        player_df = lfc_df[col]\n",
    "        p = len([i for i in player_df if i!= None])/len(player_df)\n",
    "        #if p == 0.0:\n",
    "        #    lfc_df = lfc_df.drop(columns=col)\n",
    "\n",
    "    lfc_list = [i for i in lfc_df.columns]\n",
    "    \n",
    "    return lfc_df, lfc_list"
   ]
  },
  {
   "cell_type": "code",
   "execution_count": 8,
   "metadata": {},
   "outputs": [],
   "source": [
    "lfc_df, lfc_list = create_lfc_dict(df, lfc_list)"
   ]
  },
  {
   "cell_type": "code",
   "execution_count": 9,
   "metadata": {},
   "outputs": [],
   "source": [
    "# col_list = []\n",
    "# p_list = []\n",
    "# for col in df.columns:\n",
    "#     player_df = df[col]\n",
    "#     p = len([i for i in player_df if i!= None])/len(player_df)\n",
    "#     # print(col, p)\n",
    "#     col_list.append(str(col))\n",
    "#     p_list.append(p)\n",
    "\n",
    "# plt.bar(x=col_list, height=p_list)"
   ]
  },
  {
   "cell_type": "code",
   "execution_count": 10,
   "metadata": {},
   "outputs": [
    {
     "data": {
      "text/plain": [
       "<BarContainer object of 20 artists>"
      ]
     },
     "execution_count": 10,
     "metadata": {},
     "output_type": "execute_result"
    },
    {
     "data": {
      "image/png": "[encoded data removed]",
      "text/plain": [
       "<Figure size 432x288 with 1 Axes>"
      ]
     },
     "metadata": {
      "needs_background": "light"
     },
     "output_type": "display_data"
    }
   ],
   "source": [
    "col_list = []\n",
    "p_list = []\n",
    "for col in lfc_df.columns:\n",
    "    player_df = lfc_df[col]\n",
    "    p = len([i for i in player_df if i!= None])/len(player_df)\n",
    "    # print(col, p)\n",
    "    col_list.append(str(col))\n",
    "    p_list.append(p)\n",
    "\n",
    "plt.bar(x=col_list, height=p_list)"
   ]
  },
  {
   "cell_type": "markdown",
   "metadata": {},
   "source": [
    "Obviously, for all players, more than half of the game is not covered by the broadcast data. This is a clear limitation. However, the most important parts of the games (i.e. those when they are close to the ball) is likely to be the ones visible in the broadcast and this may thus not be a huge problem. It is not likely that players far from the ball will run as quick as the ones close to the ball."
   ]
  },
  {
   "cell_type": "markdown",
   "metadata": {},
   "source": [
    "**To investigate:**\n",
    "* Ways to interpolate player positions"
   ]
  },
  {
   "cell_type": "markdown",
   "metadata": {},
   "source": [
    "# 3. Velocity"
   ]
  },
  {
   "cell_type": "markdown",
   "metadata": {},
   "source": [
    "## 3.1 Compute velocities "
   ]
  },
  {
   "cell_type": "code",
   "execution_count": 11,
   "metadata": {},
   "outputs": [],
   "source": [
    "'''\n",
    "Manually checked the time intervals. dt = 0.1 seconds\n",
    "'''\n",
    "\n",
    "\n",
    "# with open('C:\\\\Users\\\\johnl\\\\Documents\\\\GitHub\\\\opendata\\\\data\\\\matches\\\\4039\\\\structured_data.json') as f:\n",
    "#         data = json.load(f)\n",
    "\n",
    "# [frame['time'] for frame in data]\n",
    "\n",
    "dt = 0.1"
   ]
  },
  {
   "cell_type": "code",
   "execution_count": 12,
   "metadata": {},
   "outputs": [
    {
     "data": {
      "text/html": [
       "<div>\n",
       "<style scoped>\n",
       "    .dataframe tbody tr th:only-of-type {\n",
       "        vertical-align: middle;\n",
       "    }\n",
       "\n",
       "    .dataframe tbody tr th {\n",
       "        vertical-align: top;\n",
       "    }\n",
       "\n",
       "    .dataframe thead th {\n",
       "        text-align: right;\n",
       "    }\n",
       "</style>\n",
       "<table border=\"1\" class=\"dataframe\">\n",
       "  <thead>\n",
       "    <tr style=\"text-align: right;\">\n",
       "      <th></th>\n",
       "      <th>11879_x</th>\n",
       "      <th>11879_y</th>\n",
       "      <th>25648_x</th>\n",
       "      <th>25648_y</th>\n",
       "      <th>515_x</th>\n",
       "      <th>515_y</th>\n",
       "      <th>2792_x</th>\n",
       "      <th>2792_y</th>\n",
       "      <th>11589_x</th>\n",
       "      <th>11589_y</th>\n",
       "      <th>...</th>\n",
       "      <th>851_x</th>\n",
       "      <th>851_y</th>\n",
       "      <th>10748_x</th>\n",
       "      <th>10748_y</th>\n",
       "      <th>11537_x</th>\n",
       "      <th>11537_y</th>\n",
       "      <th>11847_x</th>\n",
       "      <th>11847_y</th>\n",
       "      <th>11565_x</th>\n",
       "      <th>11565_y</th>\n",
       "    </tr>\n",
       "  </thead>\n",
       "  <tbody>\n",
       "    <tr>\n",
       "      <td>0</td>\n",
       "      <td>NaN</td>\n",
       "      <td>NaN</td>\n",
       "      <td>NaN</td>\n",
       "      <td>NaN</td>\n",
       "      <td>NaN</td>\n",
       "      <td>NaN</td>\n",
       "      <td>NaN</td>\n",
       "      <td>NaN</td>\n",
       "      <td>NaN</td>\n",
       "      <td>NaN</td>\n",
       "      <td>...</td>\n",
       "      <td>NaN</td>\n",
       "      <td>NaN</td>\n",
       "      <td>NaN</td>\n",
       "      <td>NaN</td>\n",
       "      <td>NaN</td>\n",
       "      <td>NaN</td>\n",
       "      <td>NaN</td>\n",
       "      <td>NaN</td>\n",
       "      <td>NaN</td>\n",
       "      <td>NaN</td>\n",
       "    </tr>\n",
       "    <tr>\n",
       "      <td>1</td>\n",
       "      <td>NaN</td>\n",
       "      <td>NaN</td>\n",
       "      <td>NaN</td>\n",
       "      <td>NaN</td>\n",
       "      <td>NaN</td>\n",
       "      <td>NaN</td>\n",
       "      <td>NaN</td>\n",
       "      <td>NaN</td>\n",
       "      <td>NaN</td>\n",
       "      <td>NaN</td>\n",
       "      <td>...</td>\n",
       "      <td>NaN</td>\n",
       "      <td>NaN</td>\n",
       "      <td>NaN</td>\n",
       "      <td>NaN</td>\n",
       "      <td>NaN</td>\n",
       "      <td>NaN</td>\n",
       "      <td>NaN</td>\n",
       "      <td>NaN</td>\n",
       "      <td>NaN</td>\n",
       "      <td>NaN</td>\n",
       "    </tr>\n",
       "    <tr>\n",
       "      <td>2</td>\n",
       "      <td>NaN</td>\n",
       "      <td>NaN</td>\n",
       "      <td>NaN</td>\n",
       "      <td>NaN</td>\n",
       "      <td>NaN</td>\n",
       "      <td>NaN</td>\n",
       "      <td>NaN</td>\n",
       "      <td>NaN</td>\n",
       "      <td>NaN</td>\n",
       "      <td>NaN</td>\n",
       "      <td>...</td>\n",
       "      <td>NaN</td>\n",
       "      <td>NaN</td>\n",
       "      <td>NaN</td>\n",
       "      <td>NaN</td>\n",
       "      <td>NaN</td>\n",
       "      <td>NaN</td>\n",
       "      <td>NaN</td>\n",
       "      <td>NaN</td>\n",
       "      <td>NaN</td>\n",
       "      <td>NaN</td>\n",
       "    </tr>\n",
       "    <tr>\n",
       "      <td>3</td>\n",
       "      <td>NaN</td>\n",
       "      <td>NaN</td>\n",
       "      <td>NaN</td>\n",
       "      <td>NaN</td>\n",
       "      <td>NaN</td>\n",
       "      <td>NaN</td>\n",
       "      <td>NaN</td>\n",
       "      <td>NaN</td>\n",
       "      <td>NaN</td>\n",
       "      <td>NaN</td>\n",
       "      <td>...</td>\n",
       "      <td>NaN</td>\n",
       "      <td>NaN</td>\n",
       "      <td>NaN</td>\n",
       "      <td>NaN</td>\n",
       "      <td>NaN</td>\n",
       "      <td>NaN</td>\n",
       "      <td>NaN</td>\n",
       "      <td>NaN</td>\n",
       "      <td>NaN</td>\n",
       "      <td>NaN</td>\n",
       "    </tr>\n",
       "    <tr>\n",
       "      <td>4</td>\n",
       "      <td>NaN</td>\n",
       "      <td>NaN</td>\n",
       "      <td>NaN</td>\n",
       "      <td>NaN</td>\n",
       "      <td>NaN</td>\n",
       "      <td>NaN</td>\n",
       "      <td>NaN</td>\n",
       "      <td>NaN</td>\n",
       "      <td>NaN</td>\n",
       "      <td>NaN</td>\n",
       "      <td>...</td>\n",
       "      <td>NaN</td>\n",
       "      <td>NaN</td>\n",
       "      <td>NaN</td>\n",
       "      <td>NaN</td>\n",
       "      <td>NaN</td>\n",
       "      <td>NaN</td>\n",
       "      <td>NaN</td>\n",
       "      <td>NaN</td>\n",
       "      <td>NaN</td>\n",
       "      <td>NaN</td>\n",
       "    </tr>\n",
       "    <tr>\n",
       "      <td>...</td>\n",
       "      <td>...</td>\n",
       "      <td>...</td>\n",
       "      <td>...</td>\n",
       "      <td>...</td>\n",
       "      <td>...</td>\n",
       "      <td>...</td>\n",
       "      <td>...</td>\n",
       "      <td>...</td>\n",
       "      <td>...</td>\n",
       "      <td>...</td>\n",
       "      <td>...</td>\n",
       "      <td>...</td>\n",
       "      <td>...</td>\n",
       "      <td>...</td>\n",
       "      <td>...</td>\n",
       "      <td>...</td>\n",
       "      <td>...</td>\n",
       "      <td>...</td>\n",
       "      <td>...</td>\n",
       "      <td>...</td>\n",
       "      <td>...</td>\n",
       "    </tr>\n",
       "    <tr>\n",
       "      <td>68311</td>\n",
       "      <td>-45.892240</td>\n",
       "      <td>-3.379340</td>\n",
       "      <td>NaN</td>\n",
       "      <td>NaN</td>\n",
       "      <td>NaN</td>\n",
       "      <td>NaN</td>\n",
       "      <td>NaN</td>\n",
       "      <td>NaN</td>\n",
       "      <td>NaN</td>\n",
       "      <td>NaN</td>\n",
       "      <td>...</td>\n",
       "      <td>-50.214575</td>\n",
       "      <td>3.732083</td>\n",
       "      <td>-47.965296</td>\n",
       "      <td>-10.154093</td>\n",
       "      <td>NaN</td>\n",
       "      <td>NaN</td>\n",
       "      <td>NaN</td>\n",
       "      <td>NaN</td>\n",
       "      <td>-51.142657</td>\n",
       "      <td>-5.108592</td>\n",
       "    </tr>\n",
       "    <tr>\n",
       "      <td>68312</td>\n",
       "      <td>-46.009826</td>\n",
       "      <td>-3.273267</td>\n",
       "      <td>NaN</td>\n",
       "      <td>NaN</td>\n",
       "      <td>NaN</td>\n",
       "      <td>NaN</td>\n",
       "      <td>NaN</td>\n",
       "      <td>NaN</td>\n",
       "      <td>NaN</td>\n",
       "      <td>NaN</td>\n",
       "      <td>...</td>\n",
       "      <td>-50.551537</td>\n",
       "      <td>3.692949</td>\n",
       "      <td>-47.969735</td>\n",
       "      <td>-10.139654</td>\n",
       "      <td>NaN</td>\n",
       "      <td>NaN</td>\n",
       "      <td>NaN</td>\n",
       "      <td>NaN</td>\n",
       "      <td>-51.135727</td>\n",
       "      <td>-5.156821</td>\n",
       "    </tr>\n",
       "    <tr>\n",
       "      <td>68313</td>\n",
       "      <td>-46.212437</td>\n",
       "      <td>-3.021497</td>\n",
       "      <td>NaN</td>\n",
       "      <td>NaN</td>\n",
       "      <td>NaN</td>\n",
       "      <td>NaN</td>\n",
       "      <td>NaN</td>\n",
       "      <td>NaN</td>\n",
       "      <td>NaN</td>\n",
       "      <td>NaN</td>\n",
       "      <td>...</td>\n",
       "      <td>-50.862337</td>\n",
       "      <td>3.676952</td>\n",
       "      <td>-47.977826</td>\n",
       "      <td>-10.132423</td>\n",
       "      <td>NaN</td>\n",
       "      <td>NaN</td>\n",
       "      <td>NaN</td>\n",
       "      <td>NaN</td>\n",
       "      <td>-51.069791</td>\n",
       "      <td>-5.275733</td>\n",
       "    </tr>\n",
       "    <tr>\n",
       "      <td>68314</td>\n",
       "      <td>-46.442017</td>\n",
       "      <td>-2.710579</td>\n",
       "      <td>NaN</td>\n",
       "      <td>NaN</td>\n",
       "      <td>NaN</td>\n",
       "      <td>NaN</td>\n",
       "      <td>NaN</td>\n",
       "      <td>NaN</td>\n",
       "      <td>NaN</td>\n",
       "      <td>NaN</td>\n",
       "      <td>...</td>\n",
       "      <td>-51.127911</td>\n",
       "      <td>3.638456</td>\n",
       "      <td>-47.986345</td>\n",
       "      <td>-10.127046</td>\n",
       "      <td>NaN</td>\n",
       "      <td>NaN</td>\n",
       "      <td>NaN</td>\n",
       "      <td>NaN</td>\n",
       "      <td>-50.972910</td>\n",
       "      <td>-5.436047</td>\n",
       "    </tr>\n",
       "    <tr>\n",
       "      <td>68315</td>\n",
       "      <td>-46.698564</td>\n",
       "      <td>-2.340514</td>\n",
       "      <td>NaN</td>\n",
       "      <td>NaN</td>\n",
       "      <td>NaN</td>\n",
       "      <td>NaN</td>\n",
       "      <td>NaN</td>\n",
       "      <td>NaN</td>\n",
       "      <td>NaN</td>\n",
       "      <td>NaN</td>\n",
       "      <td>...</td>\n",
       "      <td>-51.348260</td>\n",
       "      <td>3.577459</td>\n",
       "      <td>-47.995292</td>\n",
       "      <td>-10.123522</td>\n",
       "      <td>NaN</td>\n",
       "      <td>NaN</td>\n",
       "      <td>NaN</td>\n",
       "      <td>NaN</td>\n",
       "      <td>-50.845083</td>\n",
       "      <td>-5.637763</td>\n",
       "    </tr>\n",
       "  </tbody>\n",
       "</table>\n",
       "<p>68316 rows × 40 columns</p>\n",
       "</div>"
      ],
      "text/plain": [
       "         11879_x   11879_y  25648_x  25648_y  515_x  515_y  2792_x  2792_y  \\\n",
       "0            NaN       NaN      NaN      NaN    NaN    NaN     NaN     NaN   \n",
       "1            NaN       NaN      NaN      NaN    NaN    NaN     NaN     NaN   \n",
       "2            NaN       NaN      NaN      NaN    NaN    NaN     NaN     NaN   \n",
       "3            NaN       NaN      NaN      NaN    NaN    NaN     NaN     NaN   \n",
       "4            NaN       NaN      NaN      NaN    NaN    NaN     NaN     NaN   \n",
       "...          ...       ...      ...      ...    ...    ...     ...     ...   \n",
       "68311 -45.892240 -3.379340      NaN      NaN    NaN    NaN     NaN     NaN   \n",
       "68312 -46.009826 -3.273267      NaN      NaN    NaN    NaN     NaN     NaN   \n",
       "68313 -46.212437 -3.021497      NaN      NaN    NaN    NaN     NaN     NaN   \n",
       "68314 -46.442017 -2.710579      NaN      NaN    NaN    NaN     NaN     NaN   \n",
       "68315 -46.698564 -2.340514      NaN      NaN    NaN    NaN     NaN     NaN   \n",
       "\n",
       "       11589_x  11589_y  ...      851_x     851_y    10748_x    10748_y  \\\n",
       "0          NaN      NaN  ...        NaN       NaN        NaN        NaN   \n",
       "1          NaN      NaN  ...        NaN       NaN        NaN        NaN   \n",
       "2          NaN      NaN  ...        NaN       NaN        NaN        NaN   \n",
       "3          NaN      NaN  ...        NaN       NaN        NaN        NaN   \n",
       "4          NaN      NaN  ...        NaN       NaN        NaN        NaN   \n",
       "...        ...      ...  ...        ...       ...        ...        ...   \n",
       "68311      NaN      NaN  ... -50.214575  3.732083 -47.965296 -10.154093   \n",
       "68312      NaN      NaN  ... -50.551537  3.692949 -47.969735 -10.139654   \n",
       "68313      NaN      NaN  ... -50.862337  3.676952 -47.977826 -10.132423   \n",
       "68314      NaN      NaN  ... -51.127911  3.638456 -47.986345 -10.127046   \n",
       "68315      NaN      NaN  ... -51.348260  3.577459 -47.995292 -10.123522   \n",
       "\n",
       "       11537_x  11537_y  11847_x  11847_y    11565_x   11565_y  \n",
       "0          NaN      NaN      NaN      NaN        NaN       NaN  \n",
       "1          NaN      NaN      NaN      NaN        NaN       NaN  \n",
       "2          NaN      NaN      NaN      NaN        NaN       NaN  \n",
       "3          NaN      NaN      NaN      NaN        NaN       NaN  \n",
       "4          NaN      NaN      NaN      NaN        NaN       NaN  \n",
       "...        ...      ...      ...      ...        ...       ...  \n",
       "68311      NaN      NaN      NaN      NaN -51.142657 -5.108592  \n",
       "68312      NaN      NaN      NaN      NaN -51.135727 -5.156821  \n",
       "68313      NaN      NaN      NaN      NaN -51.069791 -5.275733  \n",
       "68314      NaN      NaN      NaN      NaN -50.972910 -5.436047  \n",
       "68315      NaN      NaN      NaN      NaN -50.845083 -5.637763  \n",
       "\n",
       "[68316 rows x 40 columns]"
      ]
     },
     "execution_count": 12,
     "metadata": {},
     "output_type": "execute_result"
    }
   ],
   "source": [
    "# lfc_df_numeric = lfc_df.fillna(value=np.nan)\n",
    "\n",
    "lfc_cords = pd.DataFrame()\n",
    "\n",
    "for col in lfc_df.columns:\n",
    "    x_list = []\n",
    "    y_list = []\n",
    "    for i in lfc_df[col]:\n",
    "        if i == None:\n",
    "            x_list.append(np.nan)\n",
    "            y_list.append(np.nan)\n",
    "        else:\n",
    "            x_list.append(i[0])\n",
    "            y_list.append(i[1])\n",
    "    x_col = str(col)+'_x'\n",
    "    y_col = str(col)+'_y'\n",
    "    lfc_cords[x_col] = x_list\n",
    "    lfc_cords[y_col] = y_list\n",
    "\n",
    "lfc_cords"
   ]
  },
  {
   "cell_type": "code",
   "execution_count": 17,
   "metadata": {},
   "outputs": [
    {
     "data": {
      "text/html": [
       "<div>\n",
       "<style scoped>\n",
       "    .dataframe tbody tr th:only-of-type {\n",
       "        vertical-align: middle;\n",
       "    }\n",
       "\n",
       "    .dataframe tbody tr th {\n",
       "        vertical-align: top;\n",
       "    }\n",
       "\n",
       "    .dataframe thead th {\n",
       "        text-align: right;\n",
       "    }\n",
       "</style>\n",
       "<table border=\"1\" class=\"dataframe\">\n",
       "  <thead>\n",
       "    <tr style=\"text-align: right;\">\n",
       "      <th></th>\n",
       "      <th>11879_x</th>\n",
       "      <th>11879_y</th>\n",
       "      <th>25648_x</th>\n",
       "      <th>25648_y</th>\n",
       "      <th>515_x</th>\n",
       "      <th>515_y</th>\n",
       "      <th>2792_x</th>\n",
       "      <th>2792_y</th>\n",
       "      <th>11589_x</th>\n",
       "      <th>11589_y</th>\n",
       "      <th>...</th>\n",
       "      <th>851_x</th>\n",
       "      <th>851_y</th>\n",
       "      <th>10748_x</th>\n",
       "      <th>10748_y</th>\n",
       "      <th>11537_x</th>\n",
       "      <th>11537_y</th>\n",
       "      <th>11847_x</th>\n",
       "      <th>11847_y</th>\n",
       "      <th>11565_x</th>\n",
       "      <th>11565_y</th>\n",
       "    </tr>\n",
       "  </thead>\n",
       "  <tbody>\n",
       "    <tr>\n",
       "      <td>0</td>\n",
       "      <td>NaN</td>\n",
       "      <td>NaN</td>\n",
       "      <td>NaN</td>\n",
       "      <td>NaN</td>\n",
       "      <td>NaN</td>\n",
       "      <td>NaN</td>\n",
       "      <td>NaN</td>\n",
       "      <td>NaN</td>\n",
       "      <td>NaN</td>\n",
       "      <td>NaN</td>\n",
       "      <td>...</td>\n",
       "      <td>NaN</td>\n",
       "      <td>NaN</td>\n",
       "      <td>NaN</td>\n",
       "      <td>NaN</td>\n",
       "      <td>NaN</td>\n",
       "      <td>NaN</td>\n",
       "      <td>NaN</td>\n",
       "      <td>NaN</td>\n",
       "      <td>NaN</td>\n",
       "      <td>NaN</td>\n",
       "    </tr>\n",
       "    <tr>\n",
       "      <td>1</td>\n",
       "      <td>NaN</td>\n",
       "      <td>NaN</td>\n",
       "      <td>NaN</td>\n",
       "      <td>NaN</td>\n",
       "      <td>NaN</td>\n",
       "      <td>NaN</td>\n",
       "      <td>NaN</td>\n",
       "      <td>NaN</td>\n",
       "      <td>NaN</td>\n",
       "      <td>NaN</td>\n",
       "      <td>...</td>\n",
       "      <td>NaN</td>\n",
       "      <td>NaN</td>\n",
       "      <td>NaN</td>\n",
       "      <td>NaN</td>\n",
       "      <td>NaN</td>\n",
       "      <td>NaN</td>\n",
       "      <td>NaN</td>\n",
       "      <td>NaN</td>\n",
       "      <td>NaN</td>\n",
       "      <td>NaN</td>\n",
       "    </tr>\n",
       "    <tr>\n",
       "      <td>2</td>\n",
       "      <td>NaN</td>\n",
       "      <td>NaN</td>\n",
       "      <td>NaN</td>\n",
       "      <td>NaN</td>\n",
       "      <td>NaN</td>\n",
       "      <td>NaN</td>\n",
       "      <td>NaN</td>\n",
       "      <td>NaN</td>\n",
       "      <td>NaN</td>\n",
       "      <td>NaN</td>\n",
       "      <td>...</td>\n",
       "      <td>NaN</td>\n",
       "      <td>NaN</td>\n",
       "      <td>NaN</td>\n",
       "      <td>NaN</td>\n",
       "      <td>NaN</td>\n",
       "      <td>NaN</td>\n",
       "      <td>NaN</td>\n",
       "      <td>NaN</td>\n",
       "      <td>NaN</td>\n",
       "      <td>NaN</td>\n",
       "    </tr>\n",
       "    <tr>\n",
       "      <td>3</td>\n",
       "      <td>NaN</td>\n",
       "      <td>NaN</td>\n",
       "      <td>NaN</td>\n",
       "      <td>NaN</td>\n",
       "      <td>NaN</td>\n",
       "      <td>NaN</td>\n",
       "      <td>NaN</td>\n",
       "      <td>NaN</td>\n",
       "      <td>NaN</td>\n",
       "      <td>NaN</td>\n",
       "      <td>...</td>\n",
       "      <td>NaN</td>\n",
       "      <td>NaN</td>\n",
       "      <td>NaN</td>\n",
       "      <td>NaN</td>\n",
       "      <td>NaN</td>\n",
       "      <td>NaN</td>\n",
       "      <td>NaN</td>\n",
       "      <td>NaN</td>\n",
       "      <td>NaN</td>\n",
       "      <td>NaN</td>\n",
       "    </tr>\n",
       "    <tr>\n",
       "      <td>4</td>\n",
       "      <td>NaN</td>\n",
       "      <td>NaN</td>\n",
       "      <td>NaN</td>\n",
       "      <td>NaN</td>\n",
       "      <td>NaN</td>\n",
       "      <td>NaN</td>\n",
       "      <td>NaN</td>\n",
       "      <td>NaN</td>\n",
       "      <td>NaN</td>\n",
       "      <td>NaN</td>\n",
       "      <td>...</td>\n",
       "      <td>NaN</td>\n",
       "      <td>NaN</td>\n",
       "      <td>NaN</td>\n",
       "      <td>NaN</td>\n",
       "      <td>NaN</td>\n",
       "      <td>NaN</td>\n",
       "      <td>NaN</td>\n",
       "      <td>NaN</td>\n",
       "      <td>NaN</td>\n",
       "      <td>NaN</td>\n",
       "    </tr>\n",
       "    <tr>\n",
       "      <td>...</td>\n",
       "      <td>...</td>\n",
       "      <td>...</td>\n",
       "      <td>...</td>\n",
       "      <td>...</td>\n",
       "      <td>...</td>\n",
       "      <td>...</td>\n",
       "      <td>...</td>\n",
       "      <td>...</td>\n",
       "      <td>...</td>\n",
       "      <td>...</td>\n",
       "      <td>...</td>\n",
       "      <td>...</td>\n",
       "      <td>...</td>\n",
       "      <td>...</td>\n",
       "      <td>...</td>\n",
       "      <td>...</td>\n",
       "      <td>...</td>\n",
       "      <td>...</td>\n",
       "      <td>...</td>\n",
       "      <td>...</td>\n",
       "      <td>...</td>\n",
       "    </tr>\n",
       "    <tr>\n",
       "      <td>68311</td>\n",
       "      <td>-0.182076</td>\n",
       "      <td>0.171674</td>\n",
       "      <td>NaN</td>\n",
       "      <td>NaN</td>\n",
       "      <td>NaN</td>\n",
       "      <td>NaN</td>\n",
       "      <td>NaN</td>\n",
       "      <td>NaN</td>\n",
       "      <td>NaN</td>\n",
       "      <td>NaN</td>\n",
       "      <td>...</td>\n",
       "      <td>-0.426859</td>\n",
       "      <td>0.064200</td>\n",
       "      <td>-0.013296</td>\n",
       "      <td>0.004529</td>\n",
       "      <td>NaN</td>\n",
       "      <td>NaN</td>\n",
       "      <td>NaN</td>\n",
       "      <td>NaN</td>\n",
       "      <td>0.039281</td>\n",
       "      <td>-0.090923</td>\n",
       "    </tr>\n",
       "    <tr>\n",
       "      <td>68312</td>\n",
       "      <td>-0.117586</td>\n",
       "      <td>0.106073</td>\n",
       "      <td>NaN</td>\n",
       "      <td>NaN</td>\n",
       "      <td>NaN</td>\n",
       "      <td>NaN</td>\n",
       "      <td>NaN</td>\n",
       "      <td>NaN</td>\n",
       "      <td>NaN</td>\n",
       "      <td>NaN</td>\n",
       "      <td>...</td>\n",
       "      <td>-0.336962</td>\n",
       "      <td>-0.039134</td>\n",
       "      <td>-0.004439</td>\n",
       "      <td>0.014439</td>\n",
       "      <td>NaN</td>\n",
       "      <td>NaN</td>\n",
       "      <td>NaN</td>\n",
       "      <td>NaN</td>\n",
       "      <td>0.006930</td>\n",
       "      <td>-0.048229</td>\n",
       "    </tr>\n",
       "    <tr>\n",
       "      <td>68313</td>\n",
       "      <td>-0.202612</td>\n",
       "      <td>0.251771</td>\n",
       "      <td>NaN</td>\n",
       "      <td>NaN</td>\n",
       "      <td>NaN</td>\n",
       "      <td>NaN</td>\n",
       "      <td>NaN</td>\n",
       "      <td>NaN</td>\n",
       "      <td>NaN</td>\n",
       "      <td>NaN</td>\n",
       "      <td>...</td>\n",
       "      <td>-0.310800</td>\n",
       "      <td>-0.015996</td>\n",
       "      <td>-0.008091</td>\n",
       "      <td>0.007231</td>\n",
       "      <td>NaN</td>\n",
       "      <td>NaN</td>\n",
       "      <td>NaN</td>\n",
       "      <td>NaN</td>\n",
       "      <td>0.065936</td>\n",
       "      <td>-0.118912</td>\n",
       "    </tr>\n",
       "    <tr>\n",
       "      <td>68314</td>\n",
       "      <td>-0.229579</td>\n",
       "      <td>0.310918</td>\n",
       "      <td>NaN</td>\n",
       "      <td>NaN</td>\n",
       "      <td>NaN</td>\n",
       "      <td>NaN</td>\n",
       "      <td>NaN</td>\n",
       "      <td>NaN</td>\n",
       "      <td>NaN</td>\n",
       "      <td>NaN</td>\n",
       "      <td>...</td>\n",
       "      <td>-0.265574</td>\n",
       "      <td>-0.038497</td>\n",
       "      <td>-0.008519</td>\n",
       "      <td>0.005377</td>\n",
       "      <td>NaN</td>\n",
       "      <td>NaN</td>\n",
       "      <td>NaN</td>\n",
       "      <td>NaN</td>\n",
       "      <td>0.096881</td>\n",
       "      <td>-0.160314</td>\n",
       "    </tr>\n",
       "    <tr>\n",
       "      <td>68315</td>\n",
       "      <td>-0.256547</td>\n",
       "      <td>0.370065</td>\n",
       "      <td>NaN</td>\n",
       "      <td>NaN</td>\n",
       "      <td>NaN</td>\n",
       "      <td>NaN</td>\n",
       "      <td>NaN</td>\n",
       "      <td>NaN</td>\n",
       "      <td>NaN</td>\n",
       "      <td>NaN</td>\n",
       "      <td>...</td>\n",
       "      <td>-0.220349</td>\n",
       "      <td>-0.060997</td>\n",
       "      <td>-0.008947</td>\n",
       "      <td>0.003524</td>\n",
       "      <td>NaN</td>\n",
       "      <td>NaN</td>\n",
       "      <td>NaN</td>\n",
       "      <td>NaN</td>\n",
       "      <td>0.127827</td>\n",
       "      <td>-0.201716</td>\n",
       "    </tr>\n",
       "  </tbody>\n",
       "</table>\n",
       "<p>68316 rows × 40 columns</p>\n",
       "</div>"
      ],
      "text/plain": [
       "        11879_x   11879_y  25648_x  25648_y  515_x  515_y  2792_x  2792_y  \\\n",
       "0           NaN       NaN      NaN      NaN    NaN    NaN     NaN     NaN   \n",
       "1           NaN       NaN      NaN      NaN    NaN    NaN     NaN     NaN   \n",
       "2           NaN       NaN      NaN      NaN    NaN    NaN     NaN     NaN   \n",
       "3           NaN       NaN      NaN      NaN    NaN    NaN     NaN     NaN   \n",
       "4           NaN       NaN      NaN      NaN    NaN    NaN     NaN     NaN   \n",
       "...         ...       ...      ...      ...    ...    ...     ...     ...   \n",
       "68311 -0.182076  0.171674      NaN      NaN    NaN    NaN     NaN     NaN   \n",
       "68312 -0.117586  0.106073      NaN      NaN    NaN    NaN     NaN     NaN   \n",
       "68313 -0.202612  0.251771      NaN      NaN    NaN    NaN     NaN     NaN   \n",
       "68314 -0.229579  0.310918      NaN      NaN    NaN    NaN     NaN     NaN   \n",
       "68315 -0.256547  0.370065      NaN      NaN    NaN    NaN     NaN     NaN   \n",
       "\n",
       "       11589_x  11589_y  ...     851_x     851_y   10748_x   10748_y  11537_x  \\\n",
       "0          NaN      NaN  ...       NaN       NaN       NaN       NaN      NaN   \n",
       "1          NaN      NaN  ...       NaN       NaN       NaN       NaN      NaN   \n",
       "2          NaN      NaN  ...       NaN       NaN       NaN       NaN      NaN   \n",
       "3          NaN      NaN  ...       NaN       NaN       NaN       NaN      NaN   \n",
       "4          NaN      NaN  ...       NaN       NaN       NaN       NaN      NaN   \n",
       "...        ...      ...  ...       ...       ...       ...       ...      ...   \n",
       "68311      NaN      NaN  ... -0.426859  0.064200 -0.013296  0.004529      NaN   \n",
       "68312      NaN      NaN  ... -0.336962 -0.039134 -0.004439  0.014439      NaN   \n",
       "68313      NaN      NaN  ... -0.310800 -0.015996 -0.008091  0.007231      NaN   \n",
       "68314      NaN      NaN  ... -0.265574 -0.038497 -0.008519  0.005377      NaN   \n",
       "68315      NaN      NaN  ... -0.220349 -0.060997 -0.008947  0.003524      NaN   \n",
       "\n",
       "       11537_y  11847_x  11847_y   11565_x   11565_y  \n",
       "0          NaN      NaN      NaN       NaN       NaN  \n",
       "1          NaN      NaN      NaN       NaN       NaN  \n",
       "2          NaN      NaN      NaN       NaN       NaN  \n",
       "3          NaN      NaN      NaN       NaN       NaN  \n",
       "4          NaN      NaN      NaN       NaN       NaN  \n",
       "...        ...      ...      ...       ...       ...  \n",
       "68311      NaN      NaN      NaN  0.039281 -0.090923  \n",
       "68312      NaN      NaN      NaN  0.006930 -0.048229  \n",
       "68313      NaN      NaN      NaN  0.065936 -0.118912  \n",
       "68314      NaN      NaN      NaN  0.096881 -0.160314  \n",
       "68315      NaN      NaN      NaN  0.127827 -0.201716  \n",
       "\n",
       "[68316 rows x 40 columns]"
      ]
     },
     "execution_count": 17,
     "metadata": {},
     "output_type": "execute_result"
    }
   ],
   "source": [
    "lfc_cords_diff = lfc_cords.diff(periods=1, axis=0)\n",
    "lfc_cords_diff"
   ]
  },
  {
   "cell_type": "code",
   "execution_count": 13,
   "metadata": {},
   "outputs": [
    {
     "ename": "NameError",
     "evalue": "name 'lfc_cords_diff' is not defined",
     "output_type": "error",
     "traceback": [
      "\u001b[1;31m---------------------------------------------------------------------------\u001b[0m",
      "\u001b[1;31mNameError\u001b[0m                                 Traceback (most recent call last)",
      "\u001b[1;32m<ipython-input-13-0f05a26ec83e>\u001b[0m in \u001b[0;36m<module>\u001b[1;34m\u001b[0m\n\u001b[0;32m      4\u001b[0m     \u001b[0mdx_col\u001b[0m \u001b[1;33m=\u001b[0m \u001b[0mstr\u001b[0m\u001b[1;33m(\u001b[0m\u001b[0mi\u001b[0m\u001b[1;33m)\u001b[0m\u001b[1;33m+\u001b[0m\u001b[1;34m'_x'\u001b[0m\u001b[1;33m\u001b[0m\u001b[1;33m\u001b[0m\u001b[0m\n\u001b[0;32m      5\u001b[0m     \u001b[0mdy_col\u001b[0m \u001b[1;33m=\u001b[0m \u001b[0mstr\u001b[0m\u001b[1;33m(\u001b[0m\u001b[0mi\u001b[0m\u001b[1;33m)\u001b[0m\u001b[1;33m+\u001b[0m\u001b[1;34m'_y'\u001b[0m\u001b[1;33m\u001b[0m\u001b[1;33m\u001b[0m\u001b[0m\n\u001b[1;32m----> 6\u001b[1;33m     \u001b[0mdx\u001b[0m \u001b[1;33m=\u001b[0m \u001b[0mlfc_cords_diff\u001b[0m\u001b[1;33m[\u001b[0m\u001b[0mdx_col\u001b[0m\u001b[1;33m]\u001b[0m\u001b[1;33m\u001b[0m\u001b[1;33m\u001b[0m\u001b[0m\n\u001b[0m\u001b[0;32m      7\u001b[0m     \u001b[0mdy\u001b[0m \u001b[1;33m=\u001b[0m \u001b[0mlfc_cords_diff\u001b[0m\u001b[1;33m[\u001b[0m\u001b[0mdy_col\u001b[0m\u001b[1;33m]\u001b[0m\u001b[1;33m\u001b[0m\u001b[1;33m\u001b[0m\u001b[0m\n\u001b[0;32m      8\u001b[0m     \u001b[0mv\u001b[0m \u001b[1;33m=\u001b[0m \u001b[0mnp\u001b[0m\u001b[1;33m.\u001b[0m\u001b[0msqrt\u001b[0m\u001b[1;33m(\u001b[0m\u001b[0mdx\u001b[0m\u001b[1;33m**\u001b[0m\u001b[1;36m2\u001b[0m \u001b[1;33m+\u001b[0m \u001b[0mdy\u001b[0m\u001b[1;33m**\u001b[0m\u001b[1;36m2\u001b[0m\u001b[1;33m)\u001b[0m\u001b[1;33m/\u001b[0m\u001b[0mdt\u001b[0m\u001b[1;33m\u001b[0m\u001b[1;33m\u001b[0m\u001b[0m\n",
      "\u001b[1;31mNameError\u001b[0m: name 'lfc_cords_diff' is not defined"
     ]
    }
   ],
   "source": [
    "vel_lfc_df = pd.DataFrame()\n",
    "\n",
    "for i in lfc_list:\n",
    "    dx_col = str(i)+'_x'\n",
    "    dy_col = str(i)+'_y'\n",
    "    dx = lfc_cords_diff[dx_col]\n",
    "    dy = lfc_cords_diff[dy_col]\n",
    "    v = np.sqrt(dx**2 + dy**2)/dt\n",
    "    \n",
    "    for j in range(len(v)):\n",
    "        if v[j] > 12.5: # Usain Bolt's top speed\n",
    "            v[j] = np.nan\n",
    "    \n",
    "    vel_lfc_df[i] = v\n",
    "\n",
    "vel_lfc_df"
   ]
  },
  {
   "cell_type": "code",
   "execution_count": 19,
   "metadata": {},
   "outputs": [
    {
     "data": {
      "text/plain": [
       "<BarContainer object of 20 artists>"
      ]
     },
     "execution_count": 19,
     "metadata": {},
     "output_type": "execute_result"
    },
    {
     "data": {
      "image/png": "[encoded data removed]",
      "text/plain": [
       "<Figure size 432x288 with 1 Axes>"
      ]
     },
     "metadata": {
      "needs_background": "light"
     },
     "output_type": "display_data"
    }
   ],
   "source": [
    "# new check after dropping outlier velocities\n",
    "\n",
    "p_list2 = [i for i in vel_lfc_df.count()/len(vel_lfc_df)]\n",
    "col_list2 = [str(i) for i in vel_lfc_df.columns]\n",
    "\n",
    "plt.bar(x=col_list2, height=p_list2)"
   ]
  },
  {
   "cell_type": "code",
   "execution_count": 14,
   "metadata": {},
   "outputs": [
    {
     "ename": "NameError",
     "evalue": "name 'p_list2' is not defined",
     "output_type": "error",
     "traceback": [
      "\u001b[1;31m---------------------------------------------------------------------------\u001b[0m",
      "\u001b[1;31mNameError\u001b[0m                                 Traceback (most recent call last)",
      "\u001b[1;32m<ipython-input-14-db18c8fffe1e>\u001b[0m in \u001b[0;36m<module>\u001b[1;34m\u001b[0m\n\u001b[0;32m      1\u001b[0m \u001b[1;31m# printing how much data (as proportion of total frames in the game) is dropped due to the removing of outliers\u001b[0m\u001b[1;33m\u001b[0m\u001b[1;33m\u001b[0m\u001b[1;33m\u001b[0m\u001b[0m\n\u001b[1;32m----> 2\u001b[1;33m \u001b[1;32massert\u001b[0m \u001b[0mlen\u001b[0m\u001b[1;33m(\u001b[0m\u001b[0mp_list\u001b[0m\u001b[1;33m)\u001b[0m \u001b[1;33m==\u001b[0m \u001b[0mlen\u001b[0m\u001b[1;33m(\u001b[0m\u001b[0mp_list2\u001b[0m\u001b[1;33m)\u001b[0m\u001b[1;33m\u001b[0m\u001b[1;33m\u001b[0m\u001b[0m\n\u001b[0m\u001b[0;32m      3\u001b[0m \u001b[1;33m\u001b[0m\u001b[0m\n\u001b[0;32m      4\u001b[0m \u001b[1;32mfor\u001b[0m \u001b[0mi\u001b[0m \u001b[1;32min\u001b[0m \u001b[0mrange\u001b[0m\u001b[1;33m(\u001b[0m\u001b[0mlen\u001b[0m\u001b[1;33m(\u001b[0m\u001b[0mp_list\u001b[0m\u001b[1;33m)\u001b[0m\u001b[1;33m)\u001b[0m\u001b[1;33m:\u001b[0m\u001b[1;33m\u001b[0m\u001b[1;33m\u001b[0m\u001b[0m\n\u001b[0;32m      5\u001b[0m     \u001b[0mprint\u001b[0m\u001b[1;33m(\u001b[0m\u001b[0mp_list\u001b[0m\u001b[1;33m[\u001b[0m\u001b[0mi\u001b[0m\u001b[1;33m]\u001b[0m\u001b[1;33m-\u001b[0m\u001b[0mp_list2\u001b[0m\u001b[1;33m[\u001b[0m\u001b[0mi\u001b[0m\u001b[1;33m]\u001b[0m\u001b[1;33m)\u001b[0m\u001b[1;33m\u001b[0m\u001b[1;33m\u001b[0m\u001b[0m\n",
      "\u001b[1;31mNameError\u001b[0m: name 'p_list2' is not defined"
     ]
    }
   ],
   "source": [
    "# printing how much data (as proportion of total frames in the game) is dropped due to the removing of outliers\n",
    "assert len(p_list) == len(p_list2)\n",
    "\n",
    "for i in range(len(p_list)):\n",
    "    print(p_list[i]-p_list2[i])"
   ]
  },
  {
   "cell_type": "markdown",
   "metadata": {},
   "source": [
    "Relatively little data seem to be dropped by removing the outliers which is a sign that we do not lose much valuable information by doing it. It seems reasonable to assume that the benfits of getting rid of obvious outlier speeds outweighs the fact that we get even less data. Hopefully, we can solve some of these gaps by using smoothing later on."
   ]
  },
  {
   "cell_type": "markdown",
   "metadata": {},
   "source": [
    "## 3.2 Smoothing of velocities "
   ]
  },
  {
   "cell_type": "code",
   "execution_count": 25,
   "metadata": {},
   "outputs": [
    {
     "name": "stdout",
     "output_type": "stream",
     "text": [
      "0.014959335327148438\n"
     ]
    },
    {
     "data": {
      "text/html": [
       "<div>\n",
       "<style scoped>\n",
       "    .dataframe tbody tr th:only-of-type {\n",
       "        vertical-align: middle;\n",
       "    }\n",
       "\n",
       "    .dataframe tbody tr th {\n",
       "        vertical-align: top;\n",
       "    }\n",
       "\n",
       "    .dataframe thead th {\n",
       "        text-align: right;\n",
       "    }\n",
       "</style>\n",
       "<table border=\"1\" class=\"dataframe\">\n",
       "  <thead>\n",
       "    <tr style=\"text-align: right;\">\n",
       "      <th></th>\n",
       "    </tr>\n",
       "  </thead>\n",
       "  <tbody>\n",
       "  </tbody>\n",
       "</table>\n",
       "</div>"
      ],
      "text/plain": [
       "Empty DataFrame\n",
       "Columns: []\n",
       "Index: []"
      ]
     },
     "execution_count": 25,
     "metadata": {},
     "output_type": "execute_result"
    }
   ],
   "source": [
    "smoothed_vel_lfc_df = pd.DataFrame()\n",
    "\n",
    "n = len(vel_lfc_df)\n",
    "w = 3\n",
    "\n",
    "t0 = time.time()\n",
    "for player in lfc_list:\n",
    "    v_smoothed = [] \n",
    "    for j in range(n):\n",
    "        try:\n",
    "            v_smoothed.append( np.mean(vel_lfc_df[player][j-w+1:j+1]) )\n",
    "        except:\n",
    "            v_smoothed[j].append( vel_lfc_df[player][j] )\n",
    "    smoothed_vel_lfc_df[player] = v_smoothed\n",
    "print(time.time()-t0)\n",
    "\n",
    "vel_lfc_df"
   ]
  },
  {
   "cell_type": "code",
   "execution_count": 26,
   "metadata": {},
   "outputs": [
    {
     "data": {
      "text/html": [
       "<div>\n",
       "<style scoped>\n",
       "    .dataframe tbody tr th:only-of-type {\n",
       "        vertical-align: middle;\n",
       "    }\n",
       "\n",
       "    .dataframe tbody tr th {\n",
       "        vertical-align: top;\n",
       "    }\n",
       "\n",
       "    .dataframe thead th {\n",
       "        text-align: right;\n",
       "    }\n",
       "</style>\n",
       "<table border=\"1\" class=\"dataframe\">\n",
       "  <thead>\n",
       "    <tr style=\"text-align: right;\">\n",
       "      <th></th>\n",
       "      <th>11879</th>\n",
       "      <th>25648</th>\n",
       "      <th>515</th>\n",
       "      <th>2792</th>\n",
       "      <th>11589</th>\n",
       "      <th>14219</th>\n",
       "      <th>4683</th>\n",
       "      <th>11855</th>\n",
       "      <th>274</th>\n",
       "      <th>9143</th>\n",
       "      <th>9449</th>\n",
       "      <th>7745</th>\n",
       "      <th>5318</th>\n",
       "      <th>3267</th>\n",
       "      <th>3847</th>\n",
       "      <th>851</th>\n",
       "      <th>10748</th>\n",
       "      <th>11537</th>\n",
       "      <th>11847</th>\n",
       "      <th>11565</th>\n",
       "    </tr>\n",
       "  </thead>\n",
       "  <tbody>\n",
       "  </tbody>\n",
       "</table>\n",
       "</div>"
      ],
      "text/plain": [
       "Empty DataFrame\n",
       "Columns: [11879, 25648, 515, 2792, 11589, 14219, 4683, 11855, 274, 9143, 9449, 7745, 5318, 3267, 3847, 851, 10748, 11537, 11847, 11565]\n",
       "Index: []"
      ]
     },
     "execution_count": 26,
     "metadata": {},
     "output_type": "execute_result"
    }
   ],
   "source": [
    "smoothed_vel_lfc_df"
   ]
  },
  {
   "cell_type": "markdown",
   "metadata": {},
   "source": [
    "## 3.2.1 Smoothing data"
   ]
  },
  {
   "cell_type": "code",
   "execution_count": 19,
   "metadata": {},
   "outputs": [],
   "source": [
    "import scipy.signal as signal\n",
    "calc_df = lfc_cords_diff # new data frame not to intefere with the rest\n",
    "\n",
    "# Compute distance, raw velocity and velocity with various smoothing filters\n",
    "for i in lfc_dict:\n",
    "    calc_df[str(i)+'_dist'] = np.sqrt(calc_df[str(i)+'_x']**2 + calc_df[str(i)+'_y']**2)\n",
    "    calc_df[str(i)+'_speed'] = calc_df[str(i)+'_dist']/0.1\n",
    "    calc_df[str(i)+'_speed'] = calc_df[str(i)+'_speed'].apply(lambda x: np.nan if x > 12 else x) # Usain Bolt filter\n",
    "    calc_df[str(i)+'_acc'] = calc_df[str(i)+'_speed'].diff()/0.1\n",
    "    calc_df[str(i)+'_SG3_speed'] = signal.savgol_filter(calc_df[str(i)+'_speed'], 3, 1, mode='nearest')    \n",
    "    calc_df[str(i)+'_SG5_speed'] = signal.savgol_filter(calc_df[str(i)+'_speed'], 5, 1, mode='nearest')\n",
    "    #calc_df[str(i)+'_SG7_speed'] = signal.savgol_filter(calc_df[str(i)+'_speed'], 7, 1, mode='nearest')\n",
    "    #calc_df[str(i)+'_SG9_speed'] = signal.savgol_filter(calc_df[str(i)+'_speed'], 9, 1, mode='nearest')\n",
    "    calc_df[str(i)+'_SG5_acc'] = calc_df[str(i)+'_SG5_speed'].diff()/0.1\n",
    "    calc_df[str(i)+'_SG3_SG5_acc'] = signal.savgol_filter(calc_df[str(i)+'_SG5_acc'], 3, 1, mode='nearest')"
   ]
  },
  {
   "cell_type": "code",
   "execution_count": 20,
   "metadata": {},
   "outputs": [
    {
     "data": {
      "image/png": "[encoded data removed]",
      "text/plain": [
       "<Figure size 720x432 with 1 Axes>"
      ]
     },
     "metadata": {
      "needs_background": "light"
     },
     "output_type": "display_data"
    }
   ],
   "source": [
    "from matplotlib import rcParams\n",
    "rcParams['figure.figsize'] = 10,6\n",
    "rcParams['axes.linewidth'] = 0.5\n",
    "plt.rcParams[\"font.family\"] = \"Candara\"\n",
    "\n",
    "# Velocity plot\n",
    "plt.plot(calc_df[800:1200]['5318_speed'], label='Raw velocity (unsmoothed)', color='gray')\n",
    "plt.plot(calc_df[800:1200]['5318_SG3_speed'], label='Smoothed velocity (200 millisecond Savitsky-Golay filter)', color='orange')\n",
    "plt.plot(calc_df[800:1200]['5318_SG5_speed'], label='Smoothed velocity (400 millisecond Savitsky-Golay filter)', color='blue')\n",
    "#plt.plot(calc_df[800:1200]['5318_SG7_speed'], label='Smoothed velocity (600 millisecond Savitsky-Golay filter)', color='blue')\n",
    "#plt.plot(calc_df[800:1200]['5318_SG9_speed'], label='Smoothed velocity (800 millisecond Savitsky-Golay filter)', color='blue')\n",
    "plt.legend(fontsize=12)\n",
    "plt.grid(True, color = 'dimgray', linestyle='dotted')\n",
    "plt.title(\"Velocity Smoothing\", fontsize=20)\n",
    "plt.xlabel('Frame', fontsize=12)\n",
    "plt.ylabel('Velocity (m/s)', fontsize=12)\n",
    "plt.tight_layout()"
   ]
  },
  {
   "cell_type": "code",
   "execution_count": 21,
   "metadata": {},
   "outputs": [
    {
     "data": {
      "image/png": "[encoded data removed]",
      "text/plain": [
       "<Figure size 720x432 with 1 Axes>"
      ]
     },
     "metadata": {
      "needs_background": "light"
     },
     "output_type": "display_data"
    }
   ],
   "source": [
    "# Acceleration plot\n",
    "plt.plot(calc_df[800:1200]['5318_acc'], label='Raw acceleration', color='gray')\n",
    "plt.plot(calc_df[800:1200]['5318_SG5_acc'], label='Smoothed acceleration', color='blue')\n",
    "plt.plot(calc_df[800:1200]['5318_SG3_SG5_acc'], label='Additionally smoothed acceleration', color='red')\n",
    "plt.legend(fontsize=12)\n",
    "plt.grid(True, color = 'dimgray', linestyle='dotted')\n",
    "plt.title(\"Acceleration Smoothing\", fontsize=20)\n",
    "plt.xlabel('Frame', fontsize=12)\n",
    "plt.ylabel('Acceleration (m/s2)', fontsize=12)\n",
    "plt.tight_layout()"
   ]
  },
  {
   "cell_type": "code",
   "execution_count": null,
   "metadata": {},
   "outputs": [],
   "source": [
    "# Savitsky-Golay 5 window filter for velocity \n",
    "# Additional filter improvement but not strictly necessary"
   ]
  },
  {
   "cell_type": "markdown",
   "metadata": {},
   "source": [
    "## 3.3 Decompose into speed zones"
   ]
  },
  {
   "cell_type": "code",
   "execution_count": 28,
   "metadata": {},
   "outputs": [],
   "source": [
    "def dist_per_speed_zone(vel_df, player_id, bins):\n",
    "    x = vel_df[player_id]\n",
    "    w = len(x)*[0.1]\n",
    "    \n",
    "    n = plt.hist(x, bins = bins, weights = w)\n",
    "    \n",
    "    return n"
   ]
  },
  {
   "cell_type": "code",
   "execution_count": 29,
   "metadata": {},
   "outputs": [
    {
     "data": {
      "text/plain": [
       "(array([0., 0., 0., 0., 0.]),\n",
       " array([ 0. ,  2.5,  5. ,  7.5, 10. , 12.5]),\n",
       " <a list of 5 Patch objects>)"
      ]
     },
     "execution_count": 29,
     "metadata": {},
     "output_type": "execute_result"
    },
    {
     "data": {
      "image/png": "[encoded data removed]",
      "text/plain": [
       "<Figure size 720x432 with 1 Axes>"
      ]
     },
     "metadata": {
      "needs_background": "light"
     },
     "output_type": "display_data"
    }
   ],
   "source": [
    "player_id = 5318\n",
    "bins = [0,2.5,5,7.5,10,12.5]\n",
    "\n",
    "dist_per_speed_zone(smoothed_vel_lfc_df, player_id, bins)"
   ]
  },
  {
   "cell_type": "code",
   "execution_count": 62,
   "metadata": {},
   "outputs": [],
   "source": [
    "def distance_in_speed_zone(vel_df, player_id, min_speed, max_speed):\n",
    "    return sum( vel_df[player_id].between(min_speed, max_speed) ) /10"
   ]
  },
  {
   "cell_type": "code",
   "execution_count": 65,
   "metadata": {},
   "outputs": [
    {
     "data": {
      "text/plain": [
       "1534.3"
      ]
     },
     "execution_count": 65,
     "metadata": {},
     "output_type": "execute_result"
    }
   ],
   "source": [
    "player_id = 5318\n",
    "min_speed = 2\n",
    "max_speed = 8\n",
    "\n",
    "distance_in_speed_zone(smoothed_vel_lfc_df, player_id, min_speed, max_speed)"
   ]
  },
  {
   "cell_type": "markdown",
   "metadata": {},
   "source": [
    "## 3.4 Summary Statistics"
   ]
  },
  {
   "cell_type": "code",
   "execution_count": 43,
   "metadata": {},
   "outputs": [],
   "source": [
    "# Used for summary statistics\n",
    "dist_df = calc_df.loc[:, calc_df.columns.str.contains('dist')]\n",
    "speed_df = calc_df.loc[:, calc_df.columns.str.contains('SG5_speed')]\n",
    "acc_df = calc_df.loc[:, calc_df.columns.str.contains('SG3_SG5_acc')]"
   ]
  },
  {
   "cell_type": "code",
   "execution_count": 44,
   "metadata": {},
   "outputs": [],
   "source": [
    "# Change depending on game data loaded (maybe there is a better way to do this?)\n",
    "ht_start_frame = 29070\n",
    "ht_end_frame = 38948\n",
    "ht_interval = ht_end_frame - ht_start_frame\n",
    "\n",
    "# Compute minutes played, removing half time duration and benched mins\n",
    "def mins_on_pitch(data):\n",
    "    if data.start_index > ht_start_frame + 1000 and data.end_index > len(dist_df) - 100:\n",
    "        return (len(dist_df) - data.start_index)*0.1/60 # sub on mins\n",
    "    else:\n",
    "        return (data.end_index - ht_interval)*0.1/60"
   ]
  },
  {
   "cell_type": "code",
   "execution_count": 45,
   "metadata": {},
   "outputs": [],
   "source": [
    "summary_stats = pd.DataFrame.from_dict(lfc_dict, orient ='index')\n",
    "summary_stats = summary_stats.rename(columns = {0: 'name'})\n",
    "summary_stats['start_index'] = np.array(dist_df.apply(lambda col: col.first_valid_index()))\n",
    "summary_stats['end_index'] = np.array(dist_df.apply(lambda col: col.last_valid_index()))     \n",
    "summary_stats['mins'] = summary_stats.apply(mins_on_pitch, axis = 1)\n",
    "#summary_stats['startXI'] = summary_stats['start_index'].apply(lambda x: 1 if x < ht_start_frame else 0)\n",
    "summary_stats['mins_visible'] = (len(dist_df) - np.array(dist_df.isna().sum()))*0.1/60"
   ]
  },
  {
   "cell_type": "code",
   "execution_count": 47,
   "metadata": {},
   "outputs": [],
   "source": [
    "# Minutes breakdown and max speed/acceleration\n",
    "summary_stats['mins'] = summary_stats.apply(mins_on_pitch, axis = 1)\n",
    "#summary_stats['startXI'] = summary_stats['start_index'].apply(lambda x: 1 if x < ht_start_frame else 0)\n",
    "summary_stats['mins_visible'] = (len(dist_df) - np.array(dist_df.isna().sum()))*0.1/60\n",
    "summary_stats['mins_missing'] = summary_stats.mins - summary_stats.mins_visible\n",
    "summary_stats['obs_dist'] = np.array(speed_df.sum())/10/1000\n",
    "summary_stats['max_speed'] = np.array(speed_df.max())\n",
    "summary_stats['max_speed_99pc'] = np.array(speed_df.quantile(0.99)) # Results seem better, except Salah being lower than expected\n",
    "summary_stats['max_acc'] = np.array(acc_df.max())\n",
    "summary_stats['max_acc_99pc'] = np.array(acc_df.quantile(0.99)) # Unsure about these values... check with other games"
   ]
  },
  {
   "cell_type": "code",
   "execution_count": 48,
   "metadata": {},
   "outputs": [],
   "source": [
    "# Speed threshold distances and ratios\n",
    "summary_stats['walk_dist'] = np.array(speed_df[(speed_df > 0) & (speed_df <= 2)].sum()/10/1000)\n",
    "summary_stats['jog_dist'] = np.array(speed_df[(speed_df > 2) & (speed_df <= 4)].sum()/10/1000)\n",
    "summary_stats['run_dist'] = np.array(speed_df[(speed_df > 4) & (speed_df <= 7)].sum()/10/1000)\n",
    "summary_stats['sprint_dist'] = np.array(speed_df[speed_df >= 7].sum()/10/1000)\n",
    "summary_stats['walk_ratio'] = summary_stats.walk_dist/(summary_stats.run_dist+summary_stats.jog_dist+summary_stats.walk_dist)\n",
    "summary_stats['jog_ratio'] = summary_stats.jog_dist/(summary_stats.run_dist+summary_stats.jog_dist+summary_stats.walk_dist)\n",
    "summary_stats['run_ratio'] = summary_stats.run_dist/(summary_stats.run_dist+summary_stats.jog_dist+summary_stats.walk_dist)\n",
    "# sprint_ratio ignored since won't be added for extrapolated values"
   ]
  },
  {
   "cell_type": "code",
   "execution_count": 49,
   "metadata": {},
   "outputs": [
    {
     "data": {
      "text/html": [
       "<div>\n",
       "<style scoped>\n",
       "    .dataframe tbody tr th:only-of-type {\n",
       "        vertical-align: middle;\n",
       "    }\n",
       "\n",
       "    .dataframe tbody tr th {\n",
       "        vertical-align: top;\n",
       "    }\n",
       "\n",
       "    .dataframe thead th {\n",
       "        text-align: right;\n",
       "    }\n",
       "</style>\n",
       "<table border=\"1\" class=\"dataframe\">\n",
       "  <thead>\n",
       "    <tr style=\"text-align: right;\">\n",
       "      <th></th>\n",
       "      <th>name</th>\n",
       "      <th>start_index</th>\n",
       "      <th>end_index</th>\n",
       "      <th>mins</th>\n",
       "      <th>mins_visible</th>\n",
       "      <th>mins_missing</th>\n",
       "      <th>obs_dist</th>\n",
       "      <th>max_speed</th>\n",
       "      <th>max_speed_99pc</th>\n",
       "      <th>max_acc</th>\n",
       "      <th>max_acc_99pc</th>\n",
       "      <th>walk_dist</th>\n",
       "      <th>jog_dist</th>\n",
       "      <th>run_dist</th>\n",
       "      <th>sprint_dist</th>\n",
       "      <th>walk_ratio</th>\n",
       "      <th>jog_ratio</th>\n",
       "      <th>run_ratio</th>\n",
       "    </tr>\n",
       "  </thead>\n",
       "  <tbody>\n",
       "    <tr>\n",
       "      <td>11879</td>\n",
       "      <td>Minamino Takumi</td>\n",
       "      <td>62583.0</td>\n",
       "      <td>68315.0</td>\n",
       "      <td>9.555000</td>\n",
       "      <td>4.625000</td>\n",
       "      <td>4.930000</td>\n",
       "      <td>0.753845</td>\n",
       "      <td>7.983417</td>\n",
       "      <td>7.221394</td>\n",
       "      <td>7.795393</td>\n",
       "      <td>5.107137</td>\n",
       "      <td>0.133177</td>\n",
       "      <td>0.266321</td>\n",
       "      <td>0.312598</td>\n",
       "      <td>0.041750</td>\n",
       "      <td>0.187022</td>\n",
       "      <td>0.373995</td>\n",
       "      <td>0.438983</td>\n",
       "    </tr>\n",
       "    <tr>\n",
       "      <td>25648</td>\n",
       "      <td>Neco Williams</td>\n",
       "      <td>57262.0</td>\n",
       "      <td>68287.0</td>\n",
       "      <td>18.423333</td>\n",
       "      <td>7.003333</td>\n",
       "      <td>11.420000</td>\n",
       "      <td>1.212494</td>\n",
       "      <td>9.332290</td>\n",
       "      <td>7.428780</td>\n",
       "      <td>11.966307</td>\n",
       "      <td>4.954220</td>\n",
       "      <td>0.182338</td>\n",
       "      <td>0.437093</td>\n",
       "      <td>0.516595</td>\n",
       "      <td>0.076469</td>\n",
       "      <td>0.160505</td>\n",
       "      <td>0.384756</td>\n",
       "      <td>0.454739</td>\n",
       "    </tr>\n",
       "    <tr>\n",
       "      <td>515</td>\n",
       "      <td>Alex Oxlade-Chamberlain</td>\n",
       "      <td>38839.0</td>\n",
       "      <td>68255.0</td>\n",
       "      <td>49.128333</td>\n",
       "      <td>22.925000</td>\n",
       "      <td>26.203333</td>\n",
       "      <td>3.431088</td>\n",
       "      <td>9.324535</td>\n",
       "      <td>7.195826</td>\n",
       "      <td>14.056283</td>\n",
       "      <td>4.572723</td>\n",
       "      <td>0.675993</td>\n",
       "      <td>1.536455</td>\n",
       "      <td>1.091544</td>\n",
       "      <td>0.127097</td>\n",
       "      <td>0.204599</td>\n",
       "      <td>0.465030</td>\n",
       "      <td>0.330371</td>\n",
       "    </tr>\n",
       "    <tr>\n",
       "      <td>2792</td>\n",
       "      <td>Divock Origi</td>\n",
       "      <td>49044.0</td>\n",
       "      <td>68236.0</td>\n",
       "      <td>32.120000</td>\n",
       "      <td>12.625000</td>\n",
       "      <td>19.495000</td>\n",
       "      <td>1.942492</td>\n",
       "      <td>10.127846</td>\n",
       "      <td>7.957920</td>\n",
       "      <td>14.045320</td>\n",
       "      <td>5.741114</td>\n",
       "      <td>0.387126</td>\n",
       "      <td>0.671701</td>\n",
       "      <td>0.735950</td>\n",
       "      <td>0.147716</td>\n",
       "      <td>0.215696</td>\n",
       "      <td>0.374253</td>\n",
       "      <td>0.410051</td>\n",
       "    </tr>\n",
       "    <tr>\n",
       "      <td>11589</td>\n",
       "      <td>Naby Keita</td>\n",
       "      <td>48855.0</td>\n",
       "      <td>68253.0</td>\n",
       "      <td>32.435000</td>\n",
       "      <td>16.036667</td>\n",
       "      <td>16.398333</td>\n",
       "      <td>2.505146</td>\n",
       "      <td>8.166987</td>\n",
       "      <td>6.769735</td>\n",
       "      <td>14.283697</td>\n",
       "      <td>4.933940</td>\n",
       "      <td>0.427178</td>\n",
       "      <td>1.154142</td>\n",
       "      <td>0.880178</td>\n",
       "      <td>0.043647</td>\n",
       "      <td>0.173544</td>\n",
       "      <td>0.468878</td>\n",
       "      <td>0.357578</td>\n",
       "    </tr>\n",
       "    <tr>\n",
       "      <td>14219</td>\n",
       "      <td>Harvey Elliott</td>\n",
       "      <td>NaN</td>\n",
       "      <td>NaN</td>\n",
       "      <td>NaN</td>\n",
       "      <td>0.000000</td>\n",
       "      <td>NaN</td>\n",
       "      <td>0.000000</td>\n",
       "      <td>NaN</td>\n",
       "      <td>NaN</td>\n",
       "      <td>NaN</td>\n",
       "      <td>NaN</td>\n",
       "      <td>0.000000</td>\n",
       "      <td>0.000000</td>\n",
       "      <td>0.000000</td>\n",
       "      <td>0.000000</td>\n",
       "      <td>NaN</td>\n",
       "      <td>NaN</td>\n",
       "      <td>NaN</td>\n",
       "    </tr>\n",
       "    <tr>\n",
       "      <td>4683</td>\n",
       "      <td>James Milner</td>\n",
       "      <td>NaN</td>\n",
       "      <td>NaN</td>\n",
       "      <td>NaN</td>\n",
       "      <td>0.000000</td>\n",
       "      <td>NaN</td>\n",
       "      <td>0.000000</td>\n",
       "      <td>NaN</td>\n",
       "      <td>NaN</td>\n",
       "      <td>NaN</td>\n",
       "      <td>NaN</td>\n",
       "      <td>0.000000</td>\n",
       "      <td>0.000000</td>\n",
       "      <td>0.000000</td>\n",
       "      <td>0.000000</td>\n",
       "      <td>NaN</td>\n",
       "      <td>NaN</td>\n",
       "      <td>NaN</td>\n",
       "    </tr>\n",
       "    <tr>\n",
       "      <td>11855</td>\n",
       "      <td>Curtis Jones</td>\n",
       "      <td>NaN</td>\n",
       "      <td>NaN</td>\n",
       "      <td>NaN</td>\n",
       "      <td>0.000000</td>\n",
       "      <td>NaN</td>\n",
       "      <td>0.000000</td>\n",
       "      <td>NaN</td>\n",
       "      <td>NaN</td>\n",
       "      <td>NaN</td>\n",
       "      <td>NaN</td>\n",
       "      <td>0.000000</td>\n",
       "      <td>0.000000</td>\n",
       "      <td>0.000000</td>\n",
       "      <td>0.000000</td>\n",
       "      <td>NaN</td>\n",
       "      <td>NaN</td>\n",
       "      <td>NaN</td>\n",
       "    </tr>\n",
       "    <tr>\n",
       "      <td>274</td>\n",
       "      <td>Adrian</td>\n",
       "      <td>NaN</td>\n",
       "      <td>NaN</td>\n",
       "      <td>NaN</td>\n",
       "      <td>0.000000</td>\n",
       "      <td>NaN</td>\n",
       "      <td>0.000000</td>\n",
       "      <td>NaN</td>\n",
       "      <td>NaN</td>\n",
       "      <td>NaN</td>\n",
       "      <td>NaN</td>\n",
       "      <td>0.000000</td>\n",
       "      <td>0.000000</td>\n",
       "      <td>0.000000</td>\n",
       "      <td>0.000000</td>\n",
       "      <td>NaN</td>\n",
       "      <td>NaN</td>\n",
       "      <td>NaN</td>\n",
       "    </tr>\n",
       "    <tr>\n",
       "      <td>9143</td>\n",
       "      <td>Roberto Firmino</td>\n",
       "      <td>450.0</td>\n",
       "      <td>48256.0</td>\n",
       "      <td>63.963333</td>\n",
       "      <td>28.255000</td>\n",
       "      <td>35.708333</td>\n",
       "      <td>4.735335</td>\n",
       "      <td>10.104305</td>\n",
       "      <td>7.715742</td>\n",
       "      <td>13.011944</td>\n",
       "      <td>4.744404</td>\n",
       "      <td>0.627202</td>\n",
       "      <td>1.961003</td>\n",
       "      <td>1.869230</td>\n",
       "      <td>0.277900</td>\n",
       "      <td>0.140709</td>\n",
       "      <td>0.439940</td>\n",
       "      <td>0.419351</td>\n",
       "    </tr>\n",
       "    <tr>\n",
       "      <td>9449</td>\n",
       "      <td>Sadio Mane</td>\n",
       "      <td>615.0</td>\n",
       "      <td>62134.0</td>\n",
       "      <td>87.093333</td>\n",
       "      <td>35.218333</td>\n",
       "      <td>51.875000</td>\n",
       "      <td>5.377523</td>\n",
       "      <td>9.322780</td>\n",
       "      <td>7.764283</td>\n",
       "      <td>12.653767</td>\n",
       "      <td>4.931827</td>\n",
       "      <td>1.046481</td>\n",
       "      <td>2.165572</td>\n",
       "      <td>1.784181</td>\n",
       "      <td>0.381289</td>\n",
       "      <td>0.209454</td>\n",
       "      <td>0.433441</td>\n",
       "      <td>0.357105</td>\n",
       "    </tr>\n",
       "    <tr>\n",
       "      <td>7745</td>\n",
       "      <td>Mohamed Salah</td>\n",
       "      <td>620.0</td>\n",
       "      <td>68240.0</td>\n",
       "      <td>97.270000</td>\n",
       "      <td>36.666667</td>\n",
       "      <td>60.603333</td>\n",
       "      <td>5.606590</td>\n",
       "      <td>8.897751</td>\n",
       "      <td>7.268546</td>\n",
       "      <td>17.740501</td>\n",
       "      <td>4.762825</td>\n",
       "      <td>1.142213</td>\n",
       "      <td>2.273065</td>\n",
       "      <td>1.971913</td>\n",
       "      <td>0.219399</td>\n",
       "      <td>0.212024</td>\n",
       "      <td>0.421939</td>\n",
       "      <td>0.366037</td>\n",
       "    </tr>\n",
       "    <tr>\n",
       "      <td>5318</td>\n",
       "      <td>Jordan Henderson</td>\n",
       "      <td>450.0</td>\n",
       "      <td>68315.0</td>\n",
       "      <td>97.395000</td>\n",
       "      <td>44.616667</td>\n",
       "      <td>52.778333</td>\n",
       "      <td>6.876630</td>\n",
       "      <td>9.345992</td>\n",
       "      <td>6.924283</td>\n",
       "      <td>13.771913</td>\n",
       "      <td>4.931057</td>\n",
       "      <td>1.501760</td>\n",
       "      <td>2.767360</td>\n",
       "      <td>2.420592</td>\n",
       "      <td>0.186917</td>\n",
       "      <td>0.224488</td>\n",
       "      <td>0.413674</td>\n",
       "      <td>0.361838</td>\n",
       "    </tr>\n",
       "    <tr>\n",
       "      <td>3267</td>\n",
       "      <td>Fabinho</td>\n",
       "      <td>571.0</td>\n",
       "      <td>68315.0</td>\n",
       "      <td>97.395000</td>\n",
       "      <td>37.210000</td>\n",
       "      <td>60.185000</td>\n",
       "      <td>5.615403</td>\n",
       "      <td>10.112253</td>\n",
       "      <td>6.842626</td>\n",
       "      <td>13.029393</td>\n",
       "      <td>4.758550</td>\n",
       "      <td>1.114078</td>\n",
       "      <td>2.572588</td>\n",
       "      <td>1.800683</td>\n",
       "      <td>0.128054</td>\n",
       "      <td>0.203027</td>\n",
       "      <td>0.468822</td>\n",
       "      <td>0.328152</td>\n",
       "    </tr>\n",
       "    <tr>\n",
       "      <td>3847</td>\n",
       "      <td>Georginio Wijnaldum</td>\n",
       "      <td>450.0</td>\n",
       "      <td>48401.0</td>\n",
       "      <td>64.205000</td>\n",
       "      <td>32.560000</td>\n",
       "      <td>31.645000</td>\n",
       "      <td>5.097232</td>\n",
       "      <td>8.453154</td>\n",
       "      <td>7.145578</td>\n",
       "      <td>11.589721</td>\n",
       "      <td>4.354770</td>\n",
       "      <td>0.961038</td>\n",
       "      <td>2.035930</td>\n",
       "      <td>1.936669</td>\n",
       "      <td>0.163595</td>\n",
       "      <td>0.194793</td>\n",
       "      <td>0.412663</td>\n",
       "      <td>0.392544</td>\n",
       "    </tr>\n",
       "    <tr>\n",
       "      <td>851</td>\n",
       "      <td>Andrew Robertson</td>\n",
       "      <td>450.0</td>\n",
       "      <td>68315.0</td>\n",
       "      <td>97.395000</td>\n",
       "      <td>33.103333</td>\n",
       "      <td>64.291667</td>\n",
       "      <td>5.011429</td>\n",
       "      <td>9.581648</td>\n",
       "      <td>7.868835</td>\n",
       "      <td>12.308227</td>\n",
       "      <td>4.417660</td>\n",
       "      <td>1.098422</td>\n",
       "      <td>1.672444</td>\n",
       "      <td>1.803605</td>\n",
       "      <td>0.436958</td>\n",
       "      <td>0.240120</td>\n",
       "      <td>0.365604</td>\n",
       "      <td>0.394276</td>\n",
       "    </tr>\n",
       "    <tr>\n",
       "      <td>10748</td>\n",
       "      <td>Virgil van Dijk</td>\n",
       "      <td>450.0</td>\n",
       "      <td>68315.0</td>\n",
       "      <td>97.395000</td>\n",
       "      <td>30.613333</td>\n",
       "      <td>66.781667</td>\n",
       "      <td>3.840905</td>\n",
       "      <td>9.453844</td>\n",
       "      <td>7.403284</td>\n",
       "      <td>11.015508</td>\n",
       "      <td>4.655040</td>\n",
       "      <td>1.182295</td>\n",
       "      <td>1.304010</td>\n",
       "      <td>1.159837</td>\n",
       "      <td>0.194762</td>\n",
       "      <td>0.324259</td>\n",
       "      <td>0.357641</td>\n",
       "      <td>0.318100</td>\n",
       "    </tr>\n",
       "    <tr>\n",
       "      <td>11537</td>\n",
       "      <td>Joe Gomez</td>\n",
       "      <td>450.0</td>\n",
       "      <td>28893.0</td>\n",
       "      <td>31.691667</td>\n",
       "      <td>15.355000</td>\n",
       "      <td>16.336667</td>\n",
       "      <td>2.336699</td>\n",
       "      <td>9.090259</td>\n",
       "      <td>7.383512</td>\n",
       "      <td>9.517523</td>\n",
       "      <td>5.449572</td>\n",
       "      <td>0.494318</td>\n",
       "      <td>0.880852</td>\n",
       "      <td>0.846600</td>\n",
       "      <td>0.114929</td>\n",
       "      <td>0.222489</td>\n",
       "      <td>0.396464</td>\n",
       "      <td>0.381048</td>\n",
       "    </tr>\n",
       "    <tr>\n",
       "      <td>11847</td>\n",
       "      <td>Trent Alexander-Arnold</td>\n",
       "      <td>571.0</td>\n",
       "      <td>56989.0</td>\n",
       "      <td>78.518333</td>\n",
       "      <td>28.055000</td>\n",
       "      <td>50.463333</td>\n",
       "      <td>4.067942</td>\n",
       "      <td>8.570242</td>\n",
       "      <td>7.147550</td>\n",
       "      <td>15.690899</td>\n",
       "      <td>4.621570</td>\n",
       "      <td>0.972873</td>\n",
       "      <td>1.646900</td>\n",
       "      <td>1.286224</td>\n",
       "      <td>0.161945</td>\n",
       "      <td>0.249072</td>\n",
       "      <td>0.421634</td>\n",
       "      <td>0.329295</td>\n",
       "    </tr>\n",
       "    <tr>\n",
       "      <td>11565</td>\n",
       "      <td>Alisson Ramses Becker</td>\n",
       "      <td>571.0</td>\n",
       "      <td>68315.0</td>\n",
       "      <td>97.395000</td>\n",
       "      <td>9.301667</td>\n",
       "      <td>88.093333</td>\n",
       "      <td>0.859008</td>\n",
       "      <td>8.800583</td>\n",
       "      <td>5.449031</td>\n",
       "      <td>15.922036</td>\n",
       "      <td>5.327893</td>\n",
       "      <td>0.373421</td>\n",
       "      <td>0.371433</td>\n",
       "      <td>0.101574</td>\n",
       "      <td>0.012580</td>\n",
       "      <td>0.441173</td>\n",
       "      <td>0.438824</td>\n",
       "      <td>0.120003</td>\n",
       "    </tr>\n",
       "  </tbody>\n",
       "</table>\n",
       "</div>"
      ],
      "text/plain": [
       "                          name  start_index  end_index       mins  \\\n",
       "11879          Minamino Takumi      62583.0    68315.0   9.555000   \n",
       "25648            Neco Williams      57262.0    68287.0  18.423333   \n",
       "515    Alex Oxlade-Chamberlain      38839.0    68255.0  49.128333   \n",
       "2792              Divock Origi      49044.0    68236.0  32.120000   \n",
       "11589               Naby Keita      48855.0    68253.0  32.435000   \n",
       "14219           Harvey Elliott          NaN        NaN        NaN   \n",
       "4683              James Milner          NaN        NaN        NaN   \n",
       "11855             Curtis Jones          NaN        NaN        NaN   \n",
       "274                     Adrian          NaN        NaN        NaN   \n",
       "9143           Roberto Firmino        450.0    48256.0  63.963333   \n",
       "9449                Sadio Mane        615.0    62134.0  87.093333   \n",
       "7745             Mohamed Salah        620.0    68240.0  97.270000   \n",
       "5318          Jordan Henderson        450.0    68315.0  97.395000   \n",
       "3267                   Fabinho        571.0    68315.0  97.395000   \n",
       "3847       Georginio Wijnaldum        450.0    48401.0  64.205000   \n",
       "851           Andrew Robertson        450.0    68315.0  97.395000   \n",
       "10748          Virgil van Dijk        450.0    68315.0  97.395000   \n",
       "11537                Joe Gomez        450.0    28893.0  31.691667   \n",
       "11847   Trent Alexander-Arnold        571.0    56989.0  78.518333   \n",
       "11565    Alisson Ramses Becker        571.0    68315.0  97.395000   \n",
       "\n",
       "       mins_visible  mins_missing  obs_dist  max_speed  max_speed_99pc  \\\n",
       "11879      4.625000      4.930000  0.753845   7.983417        7.221394   \n",
       "25648      7.003333     11.420000  1.212494   9.332290        7.428780   \n",
       "515       22.925000     26.203333  3.431088   9.324535        7.195826   \n",
       "2792      12.625000     19.495000  1.942492  10.127846        7.957920   \n",
       "11589     16.036667     16.398333  2.505146   8.166987        6.769735   \n",
       "14219      0.000000           NaN  0.000000        NaN             NaN   \n",
       "4683       0.000000           NaN  0.000000        NaN             NaN   \n",
       "11855      0.000000           NaN  0.000000        NaN             NaN   \n",
       "274        0.000000           NaN  0.000000        NaN             NaN   \n",
       "9143      28.255000     35.708333  4.735335  10.104305        7.715742   \n",
       "9449      35.218333     51.875000  5.377523   9.322780        7.764283   \n",
       "7745      36.666667     60.603333  5.606590   8.897751        7.268546   \n",
       "5318      44.616667     52.778333  6.876630   9.345992        6.924283   \n",
       "3267      37.210000     60.185000  5.615403  10.112253        6.842626   \n",
       "3847      32.560000     31.645000  5.097232   8.453154        7.145578   \n",
       "851       33.103333     64.291667  5.011429   9.581648        7.868835   \n",
       "10748     30.613333     66.781667  3.840905   9.453844        7.403284   \n",
       "11537     15.355000     16.336667  2.336699   9.090259        7.383512   \n",
       "11847     28.055000     50.463333  4.067942   8.570242        7.147550   \n",
       "11565      9.301667     88.093333  0.859008   8.800583        5.449031   \n",
       "\n",
       "         max_acc  max_acc_99pc  walk_dist  jog_dist  run_dist  sprint_dist  \\\n",
       "11879   7.795393      5.107137   0.133177  0.266321  0.312598     0.041750   \n",
       "25648  11.966307      4.954220   0.182338  0.437093  0.516595     0.076469   \n",
       "515    14.056283      4.572723   0.675993  1.536455  1.091544     0.127097   \n",
       "2792   14.045320      5.741114   0.387126  0.671701  0.735950     0.147716   \n",
       "11589  14.283697      4.933940   0.427178  1.154142  0.880178     0.043647   \n",
       "14219        NaN           NaN   0.000000  0.000000  0.000000     0.000000   \n",
       "4683         NaN           NaN   0.000000  0.000000  0.000000     0.000000   \n",
       "11855        NaN           NaN   0.000000  0.000000  0.000000     0.000000   \n",
       "274          NaN           NaN   0.000000  0.000000  0.000000     0.000000   \n",
       "9143   13.011944      4.744404   0.627202  1.961003  1.869230     0.277900   \n",
       "9449   12.653767      4.931827   1.046481  2.165572  1.784181     0.381289   \n",
       "7745   17.740501      4.762825   1.142213  2.273065  1.971913     0.219399   \n",
       "5318   13.771913      4.931057   1.501760  2.767360  2.420592     0.186917   \n",
       "3267   13.029393      4.758550   1.114078  2.572588  1.800683     0.128054   \n",
       "3847   11.589721      4.354770   0.961038  2.035930  1.936669     0.163595   \n",
       "851    12.308227      4.417660   1.098422  1.672444  1.803605     0.436958   \n",
       "10748  11.015508      4.655040   1.182295  1.304010  1.159837     0.194762   \n",
       "11537   9.517523      5.449572   0.494318  0.880852  0.846600     0.114929   \n",
       "11847  15.690899      4.621570   0.972873  1.646900  1.286224     0.161945   \n",
       "11565  15.922036      5.327893   0.373421  0.371433  0.101574     0.012580   \n",
       "\n",
       "       walk_ratio  jog_ratio  run_ratio  \n",
       "11879    0.187022   0.373995   0.438983  \n",
       "25648    0.160505   0.384756   0.454739  \n",
       "515      0.204599   0.465030   0.330371  \n",
       "2792     0.215696   0.374253   0.410051  \n",
       "11589    0.173544   0.468878   0.357578  \n",
       "14219         NaN        NaN        NaN  \n",
       "4683          NaN        NaN        NaN  \n",
       "11855         NaN        NaN        NaN  \n",
       "274           NaN        NaN        NaN  \n",
       "9143     0.140709   0.439940   0.419351  \n",
       "9449     0.209454   0.433441   0.357105  \n",
       "7745     0.212024   0.421939   0.366037  \n",
       "5318     0.224488   0.413674   0.361838  \n",
       "3267     0.203027   0.468822   0.328152  \n",
       "3847     0.194793   0.412663   0.392544  \n",
       "851      0.240120   0.365604   0.394276  \n",
       "10748    0.324259   0.357641   0.318100  \n",
       "11537    0.222489   0.396464   0.381048  \n",
       "11847    0.249072   0.421634   0.329295  \n",
       "11565    0.441173   0.438824   0.120003  "
      ]
     },
     "execution_count": 49,
     "metadata": {},
     "output_type": "execute_result"
    }
   ],
   "source": [
    "summary_stats"
   ]
  },
  {
   "cell_type": "code",
   "execution_count": 50,
   "metadata": {},
   "outputs": [],
   "source": [
    "# Decomposing unobserved distance\n",
    "\n",
    "walk_speed = 2 # Use value between 0-2\n",
    "jog_speed = 3 # Use value between 2-4\n",
    "run_speed = 5 # Use value between 4-7\n",
    "sprint_speed = 7 # Use value greater than 7\n",
    "\n",
    "walk_weight = 0.66 # 66% missing data assumed walking speed, 33% extrapolated using observed running/jogging ratio\n",
    "\n",
    "summary_stats['walk_dist_adj'] = walk_weight*(walk_speed*summary_stats.mins_missing)*60/1000\n",
    "summary_stats['jog_dist_adj'] = (1-walk_weight)*(summary_stats.jog_ratio)*(summary_stats.mins_missing*jog_speed)*60/1000\n",
    "summary_stats['run_dist_adj'] = (1-walk_weight)*(summary_stats.run_ratio)*(summary_stats.mins_missing*run_speed)*60/1000\n",
    "# Assumed no sprinting off ball\n",
    "\n",
    "summary_stats['total_dist_xtrp'] = summary_stats.walk_dist_adj + summary_stats.jog_dist_adj + summary_stats.run_dist_adj + summary_stats.sprint_dist\n",
    "\n",
    "summary_stats['walk_dist_total'] = summary_stats.walk_dist + summary_stats.walk_dist_adj\n",
    "summary_stats['jog_dist_total'] = summary_stats.jog_dist + summary_stats.jog_dist_adj\n",
    "summary_stats['run_dist_total'] = summary_stats.run_dist + summary_stats.run_dist_adj\n",
    "summary_stats['sprint_dist_total'] = summary_stats.sprint_dist"
   ]
  },
  {
   "cell_type": "code",
   "execution_count": 53,
   "metadata": {},
   "outputs": [
    {
     "data": {
      "text/plain": [
       "[Text(0, 0.5, ''),\n",
       " Text(0.5, 0, 'Minutes'),\n",
       " Text(0.5, 1.0, 'Data availability: Observed (green) / Unobserved (grey)')]"
      ]
     },
     "execution_count": 53,
     "metadata": {},
     "output_type": "execute_result"
    },
    {
     "data": {
      "image/png": "[encoded data removed]",
      "text/plain": [
       "<Figure size 720x432 with 1 Axes>"
      ]
     },
     "metadata": {
      "needs_background": "light"
     },
     "output_type": "display_data"
    }
   ],
   "source": [
    "### Data availability\n",
    "ax_top = sns.barplot(y = 'name',\n",
    "                     x = 'mins',\n",
    "                     data = summary_stats,\n",
    "                     order = summary_stats.sort_values('mins', ascending = False).name, \n",
    "                     color = 'mediumseagreen')\n",
    "ax_bottom = sns.barplot(y = 'name',\n",
    "                        x = 'mins_missing',\n",
    "                        data = summary_stats,\n",
    "                        order = summary_stats.sort_values('mins_missing', ascending = False).name, \n",
    "                        color = 'lightgrey')\n",
    "\n",
    "ax_top.set(xlabel='Minutes', ylabel='', title = 'Data availability: Observed (green) / Unobserved (grey)')\n",
    "# Lots of data missing, how best to deal with this?\n",
    "###\n"
   ]
  },
  {
   "cell_type": "code",
   "execution_count": 56,
   "metadata": {},
   "outputs": [
    {
     "data": {
      "text/plain": [
       "<matplotlib.axes._subplots.AxesSubplot at 0x25bdd4630c8>"
      ]
     },
     "execution_count": 56,
     "metadata": {},
     "output_type": "execute_result"
    },
    {
     "data": {
      "image/png": "[encoded data removed]",
      "text/plain": [
       "<Figure size 720x432 with 1 Axes>"
      ]
     },
     "metadata": {
      "needs_background": "light"
     },
     "output_type": "display_data"
    }
   ],
   "source": [
    "### Observed distance covered where players are in camera shot\n",
    "sns.barplot(data = summary_stats,\n",
    "            x = 'obs_dist',\n",
    "            y = 'name',\n",
    "            palette = 'OrRd_r',\n",
    "            order = summary_stats.sort_values('obs_dist', ascending = False).name)\n",
    "# Typically players can run between 9-12km a game\n",
    "# This is often dependent on position - we ought to model these individually\n",
    "# Analyse position profiles with data from other games\n",
    "# For instance CBs unlikely to be running if out of shot, full backs more likely since they bomb forward for attacks, etc.\n",
    "###"
   ]
  },
  {
   "cell_type": "code",
   "execution_count": 55,
   "metadata": {},
   "outputs": [
    {
     "data": {
      "text/plain": [
       "{11879: 'LW',\n",
       " 25648: 'RWB',\n",
       " 515: 'SUB',\n",
       " 2792: 'CF',\n",
       " 11589: 'LM',\n",
       " 14219: 'SUB',\n",
       " 4683: 'SUB',\n",
       " 11855: 'SUB',\n",
       " 274: 'SUB',\n",
       " 9143: 'CF',\n",
       " 9449: 'LW',\n",
       " 7745: 'RW',\n",
       " 5318: 'RM',\n",
       " 3267: 'CM',\n",
       " 3847: 'LM',\n",
       " 851: 'LWB',\n",
       " 10748: 'LCB',\n",
       " 11537: 'RCB',\n",
       " 11847: 'RWB',\n",
       " 11565: 'GK'}"
      ]
     },
     "execution_count": 55,
     "metadata": {},
     "output_type": "execute_result"
    }
   ],
   "source": [
    "lfc_pos_dict # Use to fill missing data with position profiles"
   ]
  },
  {
   "cell_type": "code",
   "execution_count": 58,
   "metadata": {},
   "outputs": [
    {
     "data": {
      "text/plain": [
       "<seaborn.axisgrid.FacetGrid at 0x25bdd0a5308>"
      ]
     },
     "execution_count": 58,
     "metadata": {},
     "output_type": "execute_result"
    },
    {
     "data": {
      "image/png": "[encoded data removed]",
      "text/plain": [
       "<Figure size 441x360 with 1 Axes>"
      ]
     },
     "metadata": {
      "needs_background": "light"
     },
     "output_type": "display_data"
    }
   ],
   "source": [
    "### Observed absolute speed threshold (doesn't include out of camera shot movements)\n",
    "cols = ['name', 'walk_dist', 'jog_dist', 'run_dist', 'sprint_dist']\n",
    "speed_thres = summary_stats.loc[:,cols]\n",
    "speed_thres = speed_thres[(speed_thres != 0)]\n",
    "speed_thres = speed_thres.dropna()\n",
    "speed_thres = pd.melt(speed_thres, id_vars=\"name\", var_name=\"speed threshold\", value_name=\"distance\")\n",
    "sns.catplot(y = 'name',\n",
    "               x = 'distance',\n",
    "               hue = 'speed threshold',\n",
    "               data = speed_thres,\n",
    "               kind = 'bar',\n",
    "               palette = 'dark')\n",
    "# See https://www.youtube.com/watch?v=teCgjQ2ZKNo 8 mins in for what we should roughly be aiming for, although this doesn't give positions\n",
    "# Walking underestimated so we can assume a large percentage of unrecorded data is walking speed\n",
    "###"
   ]
  },
  {
   "cell_type": "code",
   "execution_count": 59,
   "metadata": {},
   "outputs": [
    {
     "data": {
      "text/plain": [
       "<seaborn.axisgrid.FacetGrid at 0x25be42c1888>"
      ]
     },
     "execution_count": 59,
     "metadata": {},
     "output_type": "execute_result"
    },
    {
     "data": {
      "image/png": "[encoded data removed]",
      "text/plain": [
       "<Figure size 454.125x360 with 1 Axes>"
      ]
     },
     "metadata": {
      "needs_background": "light"
     },
     "output_type": "display_data"
    }
   ],
   "source": [
    "# Estimated values for missing data only (sprint assumed zero)\n",
    "cols = ['name', 'walk_dist_adj', 'jog_dist_adj', 'run_dist_adj']\n",
    "adj_speed_thres = summary_stats.loc[:,cols]\n",
    "adj_speed_thres = adj_speed_thres[(adj_speed_thres != 0)]\n",
    "adj_speed_thres = adj_speed_thres.dropna()\n",
    "adj_speed_thres = pd.melt(adj_speed_thres, id_vars=\"name\", var_name=\"speed threshold\", value_name=\"distance\")\n",
    "sns.catplot(y = 'name',\n",
    "               x = 'distance',\n",
    "               hue = 'speed threshold',\n",
    "               data = adj_speed_thres,\n",
    "               kind = 'bar',\n",
    "               palette = 'Greys_r')\n",
    "# Alisson has around 80% missing data so is assumed to walk 7km out of range\n",
    "# This is a good extreme example of why assuming the same for all players out of shot doesn't really work"
   ]
  },
  {
   "cell_type": "code",
   "execution_count": 60,
   "metadata": {},
   "outputs": [
    {
     "data": {
      "text/plain": [
       "<seaborn.axisgrid.FacetGrid at 0x25be44ae908>"
      ]
     },
     "execution_count": 60,
     "metadata": {},
     "output_type": "execute_result"
    },
    {
     "data": {
      "image/png": "[encoded data removed]",
      "text/plain": [
       "<Figure size 466.125x360 with 1 Axes>"
      ]
     },
     "metadata": {
      "needs_background": "light"
     },
     "output_type": "display_data"
    }
   ],
   "source": [
    "# Combined observed and estimated values\n",
    "cols = ['name', 'walk_dist_total', 'jog_dist_total', 'run_dist_total', 'sprint_dist_total']\n",
    "speed_thres = summary_stats.loc[:,cols]\n",
    "speed_thres = speed_thres[(speed_thres != 0)]\n",
    "speed_thres = speed_thres.dropna()\n",
    "speed_thres = pd.melt(speed_thres, id_vars=\"name\", var_name=\"speed threshold\", value_name=\"distance\")\n",
    "sns.catplot(y = 'name',\n",
    "               x = 'distance',\n",
    "               hue = 'speed threshold',\n",
    "               data = speed_thres,\n",
    "               kind = 'bar',\n",
    "               palette = 'rocket_r')\n",
    "# We need to tweak the model so that we have a realistic result here\n",
    "# Estimate missing walk/jog/run for each position, as using the same values for all players doesn't seem to give good results\n",
    "\n",
    "###"
   ]
  },
  {
   "cell_type": "code",
   "execution_count": 61,
   "metadata": {},
   "outputs": [
    {
     "data": {
      "text/plain": [
       "[Text(0, 0.5, ''),\n",
       " Text(0.5, 0, 'Velocity (m/s)'),\n",
       " Text(0.5, 1.0, 'Max velocity 99% quantile')]"
      ]
     },
     "execution_count": 61,
     "metadata": {},
     "output_type": "execute_result"
    },
    {
     "data": {
      "image/png": "[encoded data removed]",
      "text/plain": [
       "<Figure size 720x432 with 1 Axes>"
      ]
     },
     "metadata": {
      "needs_background": "light"
     },
     "output_type": "display_data"
    }
   ],
   "source": [
    "### Max speed visualization\n",
    "ax = sns.barplot(y = 'name',\n",
    "                        x = 'max_speed_99pc',\n",
    "                        data = summary_stats,\n",
    "                        order = summary_stats.sort_values('max_speed_99pc', ascending = False).name, \n",
    "                        palette = 'OrRd_r')\n",
    "\n",
    "ax.set(xlabel='Velocity (m/s)', ylabel='', title = 'Max velocity 99% quantile')\n",
    "###"
   ]
  },
  {
   "cell_type": "markdown",
   "metadata": {},
   "source": [
    "# 4. Acceleration"
   ]
  },
  {
   "cell_type": "markdown",
   "metadata": {},
   "source": [
    "## 4.1 Compute acceleration"
   ]
  },
  {
   "cell_type": "code",
   "execution_count": 51,
   "metadata": {},
   "outputs": [],
   "source": [
    "# Acceleration/Decelerations\n",
    "\n",
    "accelerations = acc_df[acc_df >= 2]\n",
    "accelerations = accelerations.notnull()\n",
    "b = accelerations.cumsum()\n",
    "accelerations = b.sub(b.mask(accelerations).ffill().fillna(0)).astype(int)\n",
    "accelerations[(accelerations != 7)] = 0\n",
    "accelerations = accelerations.astype(bool).sum(axis=0)\n",
    "\n",
    "decelerations = acc_df[acc_df <= -2]\n",
    "decelerations = decelerations.notnull()\n",
    "b = decelerations.cumsum()\n",
    "decelerations = b.sub(b.mask(decelerations).ffill().fillna(0)).astype(int)\n",
    "decelerations[(decelerations != 7)] = 0\n",
    "decelerations = decelerations.astype(bool).sum(axis=0)\n",
    "\n",
    "summary_stats['acc_count'] = np.array(accelerations)\n",
    "summary_stats['dec_count'] = np.array(decelerations)\n",
    "summary_stats['acc_dec_ratio'] = summary_stats.acc_count/summary_stats.dec_count"
   ]
  },
  {
   "cell_type": "markdown",
   "metadata": {},
   "source": [
    "Smooothing of acceleration values shall not be needed since we smoothed the velocities and computed acceleration from this. This means that we should have removed most of the noise in the data already."
   ]
  },
  {
   "cell_type": "markdown",
   "metadata": {},
   "source": [
    "## 4.2 Decompose into acceleration/deceleration zones "
   ]
  },
  {
   "cell_type": "code",
   "execution_count": 52,
   "metadata": {},
   "outputs": [
    {
     "data": {
      "text/plain": [
       "<matplotlib.collections.PathCollection at 0x25bd4f25348>"
      ]
     },
     "execution_count": 52,
     "metadata": {},
     "output_type": "execute_result"
    },
    {
     "data": {
      "image/png": "[encoded data removed]",
      "text/plain": [
       "<Figure size 720x432 with 1 Axes>"
      ]
     },
     "metadata": {
      "needs_background": "light"
     },
     "output_type": "display_data"
    }
   ],
   "source": [
    "### Acc/Dec ratio\n",
    "plt.scatter(summary_stats.total_dist_xtrp, summary_stats.acc_dec_ratio, alpha=0.5)\n",
    "# See https://www.youtube.com/watch?v=teCgjQ2ZKNo 19 mins for typical values\n",
    "# Label players\n",
    "# Shouldn't have values over 1?\n",
    "# This could be where players accelerate in camera shot, but deceleration is out of camera range.  Normalize?\n"
   ]
  },
  {
   "cell_type": "markdown",
   "metadata": {},
   "source": [
    "# 5. Acceleration/Deceleration profiles"
   ]
  },
  {
   "cell_type": "code",
   "execution_count": null,
   "metadata": {},
   "outputs": [],
   "source": [
    "# TBD"
   ]
  },
  {
   "cell_type": "markdown",
   "metadata": {},
   "source": [
    "# 6. Sequences of peak intensity"
   ]
  },
  {
   "cell_type": "code",
   "execution_count": null,
   "metadata": {},
   "outputs": [],
   "source": [
    "# TBD"
   ]
  },
  {
   "cell_type": "markdown",
   "metadata": {},
   "source": [
    "# 7. Metabolic power"
   ]
  },
  {
   "cell_type": "code",
   "execution_count": null,
   "metadata": {},
   "outputs": [],
   "source": [
    "# TBD"
   ]
  }
 ],
 "metadata": {
  "kernelspec": {
   "display_name": "Python 3",
   "language": "python",
   "name": "python3"
  },
  "language_info": {
   "codemirror_mode": {
    "name": "ipython",
    "version": 3
   },
   "file_extension": ".py",
   "mimetype": "text/x-python",
   "name": "python",
   "nbconvert_exporter": "python",
   "pygments_lexer": "ipython3",
   "version": "3.7.4"
  }
 },
 "nbformat": 4,
 "nbformat_minor": 4
}
