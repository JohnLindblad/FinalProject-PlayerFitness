{
 "cells": [
  {
   "cell_type": "markdown",
   "metadata": {},
   "source": [
    "# 1. Imports"
   ]
  },
  {
   "cell_type": "code",
   "execution_count": null,
   "metadata": {},
   "outputs": [],
   "source": [
    "import pandas as pd\n",
    "import json\n",
    "import os\n",
    "import copy\n",
    "import time\n",
    "\n",
    "import seaborn as sns\n",
    "import matplotlib.pyplot as plt"
   ]
  },
  {
   "cell_type": "markdown",
   "metadata": {},
   "source": [
    "# 2. Loading data"
   ]
  },
  {
   "cell_type": "markdown",
   "metadata": {},
   "source": [
    "## 2.1 Identify id:s for Liverpool games"
   ]
  },
  {
   "cell_type": "code",
   "execution_count": null,
   "metadata": {},
   "outputs": [],
   "source": [
    "path = 'C:\\\\Users\\\\johnl\\\\Documents\\\\GitHub\\\\opendata\\\\data\\\\matches.json'\n",
    "\n",
    "with open(path) as f:\n",
    "    data = json.load(f)\n",
    "\n",
    "print(json.dumps(data, indent=4, sort_keys=True))\n",
    "\n",
    "# Manually found that the Liverpool games has id's 4039 and 2440"
   ]
  },
  {
   "cell_type": "code",
   "execution_count": null,
   "metadata": {},
   "outputs": [],
   "source": [
    "path = 'C:\\\\Users\\\\johnl\\\\Documents\\\\GitHub\\\\opendata\\\\data\\\\matches'\n",
    "\n",
    "id1 = '\\\\4039'\n",
    "id2 = '\\\\2440'"
   ]
  },
  {
   "cell_type": "markdown",
   "metadata": {},
   "source": [
    "## 2.2 Create player dict"
   ]
  },
  {
   "cell_type": "code",
   "execution_count": null,
   "metadata": {},
   "outputs": [],
   "source": [
    "with open(path + id1 + '\\\\match_data.json') as f:\n",
    "    data = json.load(f)\n",
    "    \n",
    "lfc_dict = {}\n",
    "lfc_list = []\n",
    "if data['id'] == 4039:\n",
    "    lfc_id = data['away_team']['id']\n",
    "    for player in data['players']:\n",
    "        if player['team_id'] == lfc_id:\n",
    "            obj_id = player['trackable_object']\n",
    "            first_name = player['first_name']\n",
    "            last_name = player['last_name']\n",
    "            lfc_dict[obj_id] = first_name + ' ' + last_name\n",
    "            lfc_list.append(obj_id)\n",
    "\n",
    "lfc_dict\n",
    "lfc_list\n",
    "\n",
    "name_dict = {}\n",
    "for player in data['players']:\n",
    "    obj_id = player['trackable_object']\n",
    "    first_name = player['first_name']\n",
    "    last_name = player['last_name']\n",
    "    name_dict[obj_id] = first_name + ' ' + last_name\n",
    "name_dict"
   ]
  },
  {
   "cell_type": "markdown",
   "metadata": {},
   "source": [
    "## 2.3 Load and explore tracking data "
   ]
  },
  {
   "cell_type": "code",
   "execution_count": null,
   "metadata": {},
   "outputs": [],
   "source": [
    "with open(path + id1 + '\\\\structured_data.json') as f:\n",
    "    data = json.load(f)\n",
    "\n",
    "for frame in data[1000]:\n",
    "    print(frame)"
   ]
  },
  {
   "cell_type": "code",
   "execution_count": null,
   "metadata": {},
   "outputs": [],
   "source": [
    "players = [i for i in name_dict.keys()]\n",
    "# cols = ['frame'] + players"
   ]
  },
  {
   "cell_type": "code",
   "execution_count": null,
   "metadata": {},
   "outputs": [],
   "source": [
    "data[1000]['data'][0]"
   ]
  },
  {
   "cell_type": "code",
   "execution_count": null,
   "metadata": {},
   "outputs": [],
   "source": [
    "df = pd.DataFrame(columns=players)\n",
    "print(f'Number of frames: {len(data)}')\n",
    "print(f'Number of columns: {len(players)}')"
   ]
  },
  {
   "cell_type": "code",
   "execution_count": null,
   "metadata": {},
   "outputs": [],
   "source": [
    "# s = pd.Series([None for i in range(len(players))], index=players)\n",
    "# for i in range(len(data)):\n",
    "#     df.append(s, ignore_index = True)\n",
    "df"
   ]
  },
  {
   "cell_type": "code",
   "execution_count": null,
   "metadata": {},
   "outputs": [],
   "source": [
    "new_frame = {}\n",
    "for i in players:\n",
    "    new_frame[i] = None\n",
    "\n",
    "t0 = time.time()\n",
    "\n",
    "li =  []\n",
    "for frame in data:\n",
    "    frame_nr = frame['frame']\n",
    "    curr_frame = copy.deepcopy(new_frame)\n",
    "    for obj in frame['data']:\n",
    "        x = obj['x']\n",
    "        y = obj['y']\n",
    "        try:\n",
    "            obj_id = obj['trackable_object']\n",
    "            curr_frame[obj_id] = (x, y)\n",
    "        except:\n",
    "            None\n",
    "    row = pd.Series(curr_frame, name = frame_nr)\n",
    "    li.append(curr_frame)\n",
    "\n",
    "df = pd.DataFrame(li)\n",
    "#     if frame_nr % 1000 == 0 :\n",
    "#         t = time.time() - t0\n",
    "#         print(f'{frame_nr} frames took {t} seconds to process')\n",
    "print(time.time()-t0)\n",
    "\n",
    "# df.to_pickle(id1 +'_df')\n",
    "# df = pd.read_pickle(file_name)"
   ]
  },
  {
   "cell_type": "code",
   "execution_count": null,
   "metadata": {},
   "outputs": [],
   "source": [
    "col_list = []\n",
    "p_list = []\n",
    "for col in df.columns:\n",
    "    player_df = df[col]\n",
    "    p = len([i for i in player_df if i!= None])/len(player_df)\n",
    "    # print(col, p)\n",
    "    col_list.append(str(col))\n",
    "    p_list.append(p)\n",
    "\n",
    "plt.bar(x=col_list, height=p_list)"
   ]
  },
  {
   "cell_type": "code",
   "execution_count": null,
   "metadata": {},
   "outputs": [],
   "source": [
    "lfc_df = df[lfc_list]\n",
    "\n",
    "for col in lfc_df.columns:\n",
    "    player_df = df[col]\n",
    "    p = len([i for i in player_df if i!= None])/len(player_df)\n",
    "    if p == 0.0:\n",
    "        lfc_df = lfc_df.drop(columns=col)\n",
    "\n",
    "lfc_df"
   ]
  },
  {
   "cell_type": "code",
   "execution_count": null,
   "metadata": {},
   "outputs": [],
   "source": [
    "col_list = []\n",
    "p_list = []\n",
    "for col in lfc_df.columns:\n",
    "    player_df = lfc_df[col]\n",
    "    p = len([i for i in player_df if i!= None])/len(player_df)\n",
    "    # print(col, p)\n",
    "    col_list.append(str(col))\n",
    "    p_list.append(p)\n",
    "\n",
    "plt.bar(x=col_list, height=p_list)"
   ]
  },
  {
   "cell_type": "code",
   "execution_count": null,
   "metadata": {},
   "outputs": [],
   "source": []
  }
 ],
 "metadata": {
  "kernelspec": {
   "display_name": "Python 3",
   "language": "python",
   "name": "python3"
  },
  "language_info": {
   "codemirror_mode": {
    "name": "ipython",
    "version": 3
   },
   "file_extension": ".py",
   "mimetype": "text/x-python",
   "name": "python",
   "nbconvert_exporter": "python",
   "pygments_lexer": "ipython3",
   "version": "3.7.6"
  }
 },
 "nbformat": 4,
 "nbformat_minor": 4
}
